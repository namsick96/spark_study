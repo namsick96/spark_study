{
 "cells": [
  {
   "cell_type": "markdown",
   "metadata": {
    "id": "JHSn670Gdeu4"
   },
   "source": [
    "# 구조적 API 실습"
   ]
  },
  {
   "cell_type": "code",
   "execution_count": 1,
   "metadata": {
    "id": "0Me13yncdeu7",
    "outputId": "2d0aab92-1198-4c09-abdb-05c24135c4e8"
   },
   "outputs": [
    {
     "data": {
      "text/html": [
       "\n",
       "        <div>\n",
       "            <p><b>SparkContext</b></p>\n",
       "\n",
       "            <p><a href=\"http://ip-172-31-61-34.ec2.internal:4040\">Spark UI</a></p>\n",
       "\n",
       "            <dl>\n",
       "              <dt>Version</dt>\n",
       "                <dd><code>v2.4.7</code></dd>\n",
       "              <dt>Master</dt>\n",
       "                <dd><code>local[*]</code></dd>\n",
       "              <dt>AppName</dt>\n",
       "                <dd><code>PySparkShell</code></dd>\n",
       "            </dl>\n",
       "        </div>\n",
       "        "
      ],
      "text/plain": [
       "<SparkContext master=local[*] appName=PySparkShell>"
      ]
     },
     "execution_count": 1,
     "metadata": {},
     "output_type": "execute_result"
    }
   ],
   "source": [
    "sc"
   ]
  },
  {
   "cell_type": "code",
   "execution_count": 2,
   "metadata": {
    "id": "Vu3Sh-zldevJ",
    "outputId": "7d56d4e1-0bed-441d-a17a-01f42bcec508"
   },
   "outputs": [
    {
     "name": "stdout",
     "output_type": "stream",
     "text": [
      "2010-12-01.csv  2015-summary.json\r\n",
      "2010-12-02.csv  20201010_structured_api.ipynb\r\n"
     ]
    }
   ],
   "source": [
    "ls"
   ]
  },
  {
   "cell_type": "code",
   "execution_count": 3,
   "metadata": {},
   "outputs": [
    {
     "data": {
      "text/plain": [
       "'/home/ubuntu/spark_study/1010practice'"
      ]
     },
     "execution_count": 3,
     "metadata": {},
     "output_type": "execute_result"
    }
   ],
   "source": [
    "pwd"
   ]
  },
  {
   "cell_type": "code",
   "execution_count": 4,
   "metadata": {
    "id": "ZRJgAr8GdevT"
   },
   "outputs": [],
   "source": [
    "# 파일 읽기\n",
    "\n",
    "df = spark.read.format(\"json\").load(\"file:///home/ubuntu/spark_study/1010practice/2015-summary.json\")"
   ]
  },
  {
   "cell_type": "code",
   "execution_count": 5,
   "metadata": {
    "id": "pZXxDTv3deva",
    "outputId": "135d2786-55dd-4ae4-ce16-ddfaf98b30a2"
   },
   "outputs": [
    {
     "name": "stdout",
     "output_type": "stream",
     "text": [
      "root\n",
      " |-- DEST_COUNTRY_NAME: string (nullable = true)\n",
      " |-- ORIGIN_COUNTRY_NAME: string (nullable = true)\n",
      " |-- count: long (nullable = true)\n",
      "\n"
     ]
    }
   ],
   "source": [
    "# 스키마 확인\n",
    "\n",
    "df.printSchema()"
   ]
  },
  {
   "cell_type": "code",
   "execution_count": 6,
   "metadata": {
    "id": "w1aBLTfwdevf",
    "outputId": "38722989-e561-404b-f454-8a9510ac08ac"
   },
   "outputs": [
    {
     "name": "stdout",
     "output_type": "stream",
     "text": [
      "+--------------------+-------------------+-----+\n",
      "|   DEST_COUNTRY_NAME|ORIGIN_COUNTRY_NAME|count|\n",
      "+--------------------+-------------------+-----+\n",
      "|       United States|            Romania|   15|\n",
      "|       United States|            Croatia|    1|\n",
      "|       United States|            Ireland|  344|\n",
      "|               Egypt|      United States|   15|\n",
      "|       United States|              India|   62|\n",
      "|       United States|          Singapore|    1|\n",
      "|       United States|            Grenada|   62|\n",
      "|          Costa Rica|      United States|  588|\n",
      "|             Senegal|      United States|   40|\n",
      "|             Moldova|      United States|    1|\n",
      "|       United States|       Sint Maarten|  325|\n",
      "|       United States|   Marshall Islands|   39|\n",
      "|              Guyana|      United States|   64|\n",
      "|               Malta|      United States|    1|\n",
      "|            Anguilla|      United States|   41|\n",
      "|             Bolivia|      United States|   30|\n",
      "|       United States|           Paraguay|    6|\n",
      "|             Algeria|      United States|    4|\n",
      "|Turks and Caicos ...|      United States|  230|\n",
      "|       United States|          Gibraltar|    1|\n",
      "+--------------------+-------------------+-----+\n",
      "only showing top 20 rows\n",
      "\n"
     ]
    }
   ],
   "source": [
    "# pandas의 header와 동일\n",
    "df.show()"
   ]
  },
  {
   "cell_type": "markdown",
   "metadata": {
    "id": "IEJUQKh2devk"
   },
   "source": [
    "# 데이터 프레임 조작\n"
   ]
  },
  {
   "cell_type": "code",
   "execution_count": 7,
   "metadata": {
    "id": "DUxh42bOdevl",
    "outputId": "8ae9b3a5-cca7-43ca-ffd5-876e12525d50"
   },
   "outputs": [
    {
     "data": {
      "text/plain": [
       "StructType(List(StructField(DEST_COUNTRY_NAME,StringType,true),StructField(ORIGIN_COUNTRY_NAME,StringType,true),StructField(count,LongType,true)))"
      ]
     },
     "execution_count": 7,
     "metadata": {},
     "output_type": "execute_result"
    }
   ],
   "source": [
    "# 스키마의 형태 확인\n",
    "\n",
    "df.schema"
   ]
  },
  {
   "cell_type": "code",
   "execution_count": 10,
   "metadata": {
    "id": "J_VnDf4Gdevp"
   },
   "outputs": [],
   "source": [
    "# Schema를 만들기 위해 StructField, StructType 과 사용하고자하는 데이터 타입 StringType 과 LongType을 가져옵니다.\n",
    "from pyspark.sql.types import StructField, StructType, StringType, LongType\n",
    "\n",
    "# 순서대로 이름, 데이터타입, Null 여부\n",
    "# Null이 False인 경우 metadata 지정이 가능)\n",
    "mySchema = StructType([\n",
    "    StructField(\"DEST_COUNTRY_NAME\", StringType(), True),\n",
    "    StructField(\"ORIGIN_COUNTRY_NAME\", StringType(), True),\n",
    "    StructField(\"count\", LongType(), False, metadata = {\"hello\" : \"world\"})\n",
    "])\n",
    "\n",
    "\n",
    "df = spark.read.format(\"json\").schema(mySchema).load(\"file:///home/ubuntu/spark_study/1010practice/2015-summary.json\")"
   ]
  },
  {
   "cell_type": "code",
   "execution_count": 11,
   "metadata": {
    "id": "5WcPyv6Wdevs",
    "outputId": "76208fc5-bdcd-4d8f-f14c-61dc3e220e14"
   },
   "outputs": [
    {
     "data": {
      "text/plain": [
       "['DEST_COUNTRY_NAME', 'ORIGIN_COUNTRY_NAME', 'count']"
      ]
     },
     "execution_count": 11,
     "metadata": {},
     "output_type": "execute_result"
    }
   ],
   "source": [
    "# DataFrame에 어떤 칼럼이 있을까?\n",
    "\n",
    "df.columns"
   ]
  },
  {
   "cell_type": "code",
   "execution_count": 12,
   "metadata": {
    "id": "VZXapsB8devv",
    "outputId": "1d823138-1ccb-40bb-f392-d7049fdf1499"
   },
   "outputs": [
    {
     "data": {
      "text/plain": [
       "Column<b'someColumnName'>"
      ]
     },
     "execution_count": 12,
     "metadata": {},
     "output_type": "execute_result"
    }
   ],
   "source": [
    "from pyspark.sql.functions import col, column, exp\n",
    "\n",
    "# 컬럼은 다음과 같이 col 또는 column이라는 함수로 column 객체를 정의할 수도 있습니다.\n",
    "\n",
    "col(\"someColumnName\")"
   ]
  },
  {
   "cell_type": "code",
   "execution_count": 13,
   "metadata": {
    "id": "6UCGIyVYdevz",
    "outputId": "7861eb2d-8ff2-4aad-8186-4e1363f54928"
   },
   "outputs": [
    {
     "data": {
      "text/plain": [
       "Column<b'EXP(someColumnName)'>"
      ]
     },
     "execution_count": 13,
     "metadata": {},
     "output_type": "execute_result"
    }
   ],
   "source": [
    "#컬럼은 expression이다. 이정도만 알아두시면 될거 같아여\n",
    "exp(\"someColumnName\")"
   ]
  },
  {
   "cell_type": "code",
   "execution_count": 14,
   "metadata": {
    "id": "7JvQaQRQdev2",
    "outputId": "39959855-4c3b-41b5-ca88-7880c19db5ff"
   },
   "outputs": [
    {
     "data": {
      "text/plain": [
       "Row(DEST_COUNTRY_NAME='United States', ORIGIN_COUNTRY_NAME='Romania', count=15)"
      ]
     },
     "execution_count": 14,
     "metadata": {},
     "output_type": "execute_result"
    }
   ],
   "source": [
    "#다음은 로우를 확인하게 됩니다\n",
    "\n",
    "df.first()"
   ]
  },
  {
   "cell_type": "code",
   "execution_count": 16,
   "metadata": {
    "id": "NfRKnOP2dev5"
   },
   "outputs": [],
   "source": [
    "from pyspark.sql import Row\n",
    "\n",
    "#다음과 같이 Row 객체를 이용해 정의도 가능합니다.\n",
    "myRow = Row(\"세현\", None, 1, False)"
   ]
  },
  {
   "cell_type": "code",
   "execution_count": 17,
   "metadata": {
    "id": "6oHogWT1dev8",
    "outputId": "e593469b-2d49-43fd-8a22-e9b8fdedbf11"
   },
   "outputs": [
    {
     "data": {
      "text/plain": [
       "('세현', 1)"
      ]
     },
     "execution_count": 17,
     "metadata": {},
     "output_type": "execute_result"
    }
   ],
   "source": [
    "# Indexing도 가능합니다\n",
    "myRow[0], myRow[2]"
   ]
  },
  {
   "cell_type": "markdown",
   "metadata": {
    "id": "WT3mW8L-dev_"
   },
   "source": [
    "### DataFrame 조작 및 생성"
   ]
  },
  {
   "cell_type": "code",
   "execution_count": 18,
   "metadata": {
    "id": "u_6g5akEdewA"
   },
   "outputs": [],
   "source": [
    "# 실습용 스키마를 만들어주도록 하겠습니다.\n",
    "# 다시 한 번 말씀드리자면 이름 - 데이터타입 - Nan값 여부 입니다.\n",
    "\n",
    "practiceSchema = StructType([\n",
    "    StructField(\"some\", StringType(), True),\n",
    "    StructField(\"col\", StringType(), True),\n",
    "    StructField(\"names\", LongType(), False)\n",
    "])"
   ]
  },
  {
   "cell_type": "code",
   "execution_count": 19,
   "metadata": {
    "id": "Uaq7q8GPdewD",
    "outputId": "e4493bb7-2b47-4c31-d982-a6b11f1effe3"
   },
   "outputs": [
    {
     "name": "stdout",
     "output_type": "stream",
     "text": [
      "+-------+----+-----+\n",
      "|   some| col|names|\n",
      "+-------+----+-----+\n",
      "|passion|null|   16|\n",
      "+-------+----+-----+\n",
      "\n"
     ]
    }
   ],
   "source": [
    "# Row를 생성하고\n",
    "practiceRow = Row(\"passion\", None, 16)\n",
    "\n",
    "# 그 row와 schema 구조를 따라서 df 생성\n",
    "practicedf = spark.createDataFrame([practiceRow], practiceSchema)\n",
    "\n",
    "# 굳\n",
    "practicedf.show()"
   ]
  },
  {
   "cell_type": "markdown",
   "metadata": {
    "id": "df_-WcQtdewG"
   },
   "source": [
    "### select와 selectExpr\n",
    "SQL 구문과 비슷합니다"
   ]
  },
  {
   "cell_type": "code",
   "execution_count": 20,
   "metadata": {
    "id": "uJA0mgCNdewG",
    "outputId": "b369e51a-376d-4001-bebb-5ab339fee98a"
   },
   "outputs": [
    {
     "name": "stdout",
     "output_type": "stream",
     "text": [
      "+-----------------+-------------------+\n",
      "|DEST_COUNTRY_NAME|ORIGIN_COUNTRY_NAME|\n",
      "+-----------------+-------------------+\n",
      "|    United States|            Romania|\n",
      "|    United States|            Croatia|\n",
      "+-----------------+-------------------+\n",
      "only showing top 2 rows\n",
      "\n"
     ]
    }
   ],
   "source": [
    "# 두개의 컬럼만 2줄 보여줍니다\n",
    "df.select(\"DEST_COUNTRY_NAME\", \"ORIGIN_COUNTRY_NAME\").show(2)"
   ]
  },
  {
   "cell_type": "code",
   "execution_count": 21,
   "metadata": {
    "id": "IW1-T4vsdewJ",
    "outputId": "b3e41040-118a-423f-96e3-c2104ee0d5e5"
   },
   "outputs": [
    {
     "name": "stdout",
     "output_type": "stream",
     "text": [
      "+-------------+\n",
      "|  passionyang|\n",
      "+-------------+\n",
      "|United States|\n",
      "|United States|\n",
      "+-------------+\n",
      "only showing top 2 rows\n",
      "\n"
     ]
    }
   ],
   "source": [
    "from pyspark.sql.functions import expr\n",
    "\n",
    "# expr로 column을 조작하는거죠. 아까 나왔습니당\n",
    "df.select(expr(\"DEST_COUNTRY_NAME AS passionyang\")).show(2)"
   ]
  },
  {
   "cell_type": "code",
   "execution_count": 22,
   "metadata": {
    "id": "hsdIaVOLdewN",
    "outputId": "b8310f51-f119-4a7c-89b3-7644e7279a9b"
   },
   "outputs": [
    {
     "name": "stdout",
     "output_type": "stream",
     "text": [
      "+-------------+\n",
      "|  passionyang|\n",
      "+-------------+\n",
      "|United States|\n",
      "|United States|\n",
      "+-------------+\n",
      "only showing top 2 rows\n",
      "\n"
     ]
    }
   ],
   "source": [
    "# 요런 방식도 가능합니다\n",
    "\n",
    "df.selectExpr(\"DEST_COUNTRY_NAME as passionyang\").show(2)"
   ]
  },
  {
   "cell_type": "code",
   "execution_count": 23,
   "metadata": {
    "id": "cJWyOadQdewP",
    "outputId": "bafdeadc-f6e4-4a39-8033-0652d4d574f6"
   },
   "outputs": [
    {
     "name": "stdout",
     "output_type": "stream",
     "text": [
      "+-----------------+-------------------+-----+-------------+\n",
      "|DEST_COUNTRY_NAME|ORIGIN_COUNTRY_NAME|count|withinCountry|\n",
      "+-----------------+-------------------+-----+-------------+\n",
      "|    United States|            Romania|   15|        false|\n",
      "|    United States|            Croatia|    1|        false|\n",
      "+-----------------+-------------------+-----+-------------+\n",
      "only showing top 2 rows\n",
      "\n"
     ]
    }
   ],
   "source": [
    "# 앞선 두 컬럼이 같은 지를 확인하는 withinCountry 칼럼을 만들었습니다\n",
    "# *는 모든 컬럼을 포함하라는 말입니다\n",
    "\n",
    "df.selectExpr(\"*\", \"(DEST_COUNTRY_NAME = ORIGIN_COUNTRY_NAME) as withinCountry\" ).show(2)"
   ]
  },
  {
   "cell_type": "code",
   "execution_count": 24,
   "metadata": {
    "id": "E0u1-m2ddewS",
    "outputId": "6904ddee-dc98-4859-fa49-485f7bd32437",
    "scrolled": true
   },
   "outputs": [
    {
     "name": "stdout",
     "output_type": "stream",
     "text": [
      "+-----------+------------+\n",
      "| avg(count)|unique_count|\n",
      "+-----------+------------+\n",
      "|1770.765625|         132|\n",
      "+-----------+------------+\n",
      "\n"
     ]
    }
   ],
   "source": [
    "# count의 평균과, DEST_COUNTRY_NAME의 유니크한 수를 count 해주었습니다.\n",
    "\n",
    "df.selectExpr(\"avg(count)\",\"count(distinct(DEST_COUNTRY_NAME)) as unique_count\").show(2)"
   ]
  },
  {
   "cell_type": "markdown",
   "metadata": {
    "id": "cY8UkwZHdewU"
   },
   "source": [
    "### 명시적인 값 넣기 lit"
   ]
  },
  {
   "cell_type": "code",
   "execution_count": 25,
   "metadata": {
    "id": "wBTfB-OkdewV",
    "outputId": "a3044553-32a2-48bc-e8f3-96b44a743bc7"
   },
   "outputs": [
    {
     "name": "stdout",
     "output_type": "stream",
     "text": [
      "+-----------------+-------------------+-----+---+\n",
      "|DEST_COUNTRY_NAME|ORIGIN_COUNTRY_NAME|count|One|\n",
      "+-----------------+-------------------+-----+---+\n",
      "|    United States|            Romania|   15|  1|\n",
      "|    United States|            Croatia|    1|  1|\n",
      "+-----------------+-------------------+-----+---+\n",
      "only showing top 2 rows\n",
      "\n"
     ]
    }
   ],
   "source": [
    "# 명시적인 값을 넣기 위해선 lit 이라는 함수를 사용합니다 (literal)\n",
    "\n",
    "from pyspark.sql.functions import lit\n",
    "\n",
    "df.select(expr(\"*\"),lit(1).alias(\"One\")).show(2)"
   ]
  },
  {
   "cell_type": "markdown",
   "metadata": {
    "id": "RZsciHPbdewX"
   },
   "source": [
    "### 칼럼 추가 withcolumn"
   ]
  },
  {
   "cell_type": "code",
   "execution_count": 26,
   "metadata": {
    "id": "fj5kCv0adewY",
    "outputId": "a266744a-1f2d-48c9-85b2-da1aad85cfac"
   },
   "outputs": [
    {
     "name": "stdout",
     "output_type": "stream",
     "text": [
      "+-----------------+-------------------+-----+---+\n",
      "|DEST_COUNTRY_NAME|ORIGIN_COUNTRY_NAME|count|One|\n",
      "+-----------------+-------------------+-----+---+\n",
      "|    United States|            Romania|   15|  1|\n",
      "|    United States|            Croatia|    1|  1|\n",
      "+-----------------+-------------------+-----+---+\n",
      "only showing top 2 rows\n",
      "\n"
     ]
    }
   ],
   "source": [
    "# 아까랑 같긴 한데 좀 형식적으로 하기 위해선 Withcolumn을 사용합니다\n",
    "\n",
    "df.withColumn(\"One\",lit(1)).show(2)"
   ]
  },
  {
   "cell_type": "code",
   "execution_count": 27,
   "metadata": {
    "id": "hpaXaCpzdewa",
    "outputId": "61f8ac5f-6856-4ec3-87af-e6ecd0f83c82"
   },
   "outputs": [
    {
     "name": "stdout",
     "output_type": "stream",
     "text": [
      "+-------------+-------------------+-----+\n",
      "|         dest|ORIGIN_COUNTRY_NAME|count|\n",
      "+-------------+-------------------+-----+\n",
      "|United States|            Romania|   15|\n",
      "|United States|            Croatia|    1|\n",
      "+-------------+-------------------+-----+\n",
      "only showing top 2 rows\n",
      "\n"
     ]
    }
   ],
   "source": [
    "df.withColumnRenamed(\"DEST_COUNTRY_NAME\",\"dest\").show(2)"
   ]
  },
  {
   "cell_type": "code",
   "execution_count": 28,
   "metadata": {
    "id": "UKc3jcyKdewc",
    "outputId": "d9abd822-2460-4be4-db2f-6cb972d34990"
   },
   "outputs": [
    {
     "data": {
      "text/plain": [
       "StructType(List(StructField(DEST_COUNTRY_NAME,StringType,true),StructField(ORIGIN_COUNTRY_NAME,StringType,true),StructField(count,LongType,true),StructField(count2,StringType,true)))"
      ]
     },
     "execution_count": 28,
     "metadata": {},
     "output_type": "execute_result"
    }
   ],
   "source": [
    "# cast를 이용하여 column의 데이터타입을 변경하는 것도 가능합니다.\n",
    "\n",
    "df.withColumn(\"count2\" ,col(\"count\").cast(\"string\")).schema"
   ]
  },
  {
   "cell_type": "markdown",
   "metadata": {
    "id": "8zsz9CpHdewe"
   },
   "source": [
    "### 칼럼 제거 drop"
   ]
  },
  {
   "cell_type": "code",
   "execution_count": 29,
   "metadata": {
    "id": "GmRrSxQ8dewf",
    "outputId": "62b63639-5988-4ed2-cefb-dabbd70a237f"
   },
   "outputs": [
    {
     "data": {
      "text/plain": [
       "['DEST_COUNTRY_NAME', 'count']"
      ]
     },
     "execution_count": 29,
     "metadata": {},
     "output_type": "execute_result"
    }
   ],
   "source": [
    "# 드랍하고 남은 칼럼 세어봅니다\n",
    "\n",
    "df.drop(\"ORIGIN_COUNTRY_NAME\").columns"
   ]
  },
  {
   "cell_type": "markdown",
   "metadata": {
    "id": "4_uVGpW3dewh"
   },
   "source": [
    "### Row 필터링 filter 와 where"
   ]
  },
  {
   "cell_type": "code",
   "execution_count": 30,
   "metadata": {
    "id": "Bs_USOfndewh",
    "outputId": "a102322b-5ceb-44d5-e407-653fd3c9b42c"
   },
   "outputs": [
    {
     "name": "stdout",
     "output_type": "stream",
     "text": [
      "+-----------------+-------------------+-----+\n",
      "|DEST_COUNTRY_NAME|ORIGIN_COUNTRY_NAME|count|\n",
      "+-----------------+-------------------+-----+\n",
      "|    United States|            Croatia|    1|\n",
      "|    United States|          Singapore|    1|\n",
      "+-----------------+-------------------+-----+\n",
      "only showing top 2 rows\n",
      "\n",
      "+-----------------+-------------------+-----+\n",
      "|DEST_COUNTRY_NAME|ORIGIN_COUNTRY_NAME|count|\n",
      "+-----------------+-------------------+-----+\n",
      "|    United States|            Croatia|    1|\n",
      "|    United States|          Singapore|    1|\n",
      "+-----------------+-------------------+-----+\n",
      "only showing top 2 rows\n",
      "\n"
     ]
    }
   ],
   "source": [
    "# 이번엔 row를 조작하는데 filter, where 둘다 같습니다\n",
    "\n",
    "df.filter(col(\"count\") < 2).show(2)\n",
    "df.where(\"count < 2\").show(2)"
   ]
  },
  {
   "cell_type": "code",
   "execution_count": 31,
   "metadata": {
    "id": "Rhz_fbZzdewj",
    "outputId": "a13512d6-1270-4563-c3bc-e9c06fda4961"
   },
   "outputs": [
    {
     "name": "stdout",
     "output_type": "stream",
     "text": [
      "+-----------------+-------------------+-----+\n",
      "|DEST_COUNTRY_NAME|ORIGIN_COUNTRY_NAME|count|\n",
      "+-----------------+-------------------+-----+\n",
      "|    United States|          Singapore|    1|\n",
      "|          Moldova|      United States|    1|\n",
      "+-----------------+-------------------+-----+\n",
      "only showing top 2 rows\n",
      "\n"
     ]
    }
   ],
   "source": [
    "#where 여러개 동시에도 가능합니다\n",
    "df.where(col(\"count\") <2).where(col(\"ORIGIN_COUNTRY_NAME\") != \"Croatia\").show(2)"
   ]
  },
  {
   "cell_type": "code",
   "execution_count": 32,
   "metadata": {
    "id": "SFlwYQLTdewl",
    "outputId": "17adbf35-3634-4904-9be2-e3169013ce22"
   },
   "outputs": [
    {
     "data": {
      "text/plain": [
       "256"
      ]
     },
     "execution_count": 32,
     "metadata": {},
     "output_type": "execute_result"
    }
   ],
   "source": [
    "#unique한 값을 얻으려면 distinct 함수를 사용합니다.\n",
    "df.select(\"ORIGIN_COUNTRY_NAME\",\"DEST_COUNTRY_NAME\").distinct().count()"
   ]
  },
  {
   "cell_type": "code",
   "execution_count": 33,
   "metadata": {
    "id": "UEWsSgrBdewo",
    "outputId": "ca672650-7eda-4f16-d5dc-1f403c618882"
   },
   "outputs": [
    {
     "data": {
      "text/plain": [
       "126"
      ]
     },
     "execution_count": 33,
     "metadata": {},
     "output_type": "execute_result"
    }
   ],
   "source": [
    "# 랜덤 샘플 생성\n",
    "seed = 5\n",
    "withReplacement = False\n",
    "fraction = 0.5\n",
    "df.sample(withReplacement,fraction,seed).count()"
   ]
  },
  {
   "cell_type": "code",
   "execution_count": 34,
   "metadata": {
    "id": "rN73zMDcdewq",
    "outputId": "7ce0c365-7790-445b-961d-b5039d3ec577"
   },
   "outputs": [
    {
     "data": {
      "text/plain": [
       "60"
      ]
     },
     "execution_count": 34,
     "metadata": {},
     "output_type": "execute_result"
    }
   ],
   "source": [
    "# 랜덤하게 split 후 확인\n",
    "dataFrames = df.randomSplit([0.25,0.75],seed)\n",
    "dataFrames[0].count() "
   ]
  },
  {
   "cell_type": "code",
   "execution_count": 35,
   "metadata": {
    "id": "kqlz7uOZdews",
    "outputId": "8a78ea57-f01d-4489-ccb8-7c613f35cda3"
   },
   "outputs": [
    {
     "data": {
      "text/plain": [
       "196"
      ]
     },
     "execution_count": 35,
     "metadata": {},
     "output_type": "execute_result"
    }
   ],
   "source": [
    "dataFrames[1].count()"
   ]
  },
  {
   "cell_type": "markdown",
   "metadata": {
    "id": "eyqDqbJIdewu"
   },
   "source": [
    "### Row 합치기와 추가하기"
   ]
  },
  {
   "cell_type": "code",
   "execution_count": 36,
   "metadata": {
    "id": "WUjsCd-Bdewu"
   },
   "outputs": [],
   "source": [
    "# DataFrame은 immutable 하기 때문에 사실 새로운 row를 추가해준다는 개념이 없습니다.\n",
    "# 따라서 두 개의 DataFrame을 만들어 두 개를 통합 (union) 해주어야합니다.\n",
    "\n",
    "from pyspark.sql import Row\n",
    "\n",
    "# 기존 df의 스키마를 따와, newRows 라는 데이터를 형성합니다.\n",
    "schema = df.schema\n",
    "newRows = [\n",
    "    Row(\"New Country\", \"Other Country\", 5),\n",
    "    Row(\"New New Country\", \"Other Country\", 1)\n",
    "]\n",
    "\n",
    "#newDF로 데이터프레임화시킵니다.\n",
    "parallelizedRows = spark.sparkContext.parallelize(newRows)\n",
    "newDF = spark.createDataFrame(parallelizedRows, schema)"
   ]
  },
  {
   "cell_type": "code",
   "execution_count": 37,
   "metadata": {
    "id": "xyWcHWmjdeww",
    "outputId": "29723cfd-6262-4788-ab91-d9606d16bb85"
   },
   "outputs": [
    {
     "name": "stdout",
     "output_type": "stream",
     "text": [
      "+-----------------+-------------------+-----+\n",
      "|DEST_COUNTRY_NAME|ORIGIN_COUNTRY_NAME|count|\n",
      "+-----------------+-------------------+-----+\n",
      "|    United States|            Croatia|    1|\n",
      "|    United States|          Singapore|    1|\n",
      "|    United States|          Gibraltar|    1|\n",
      "|    United States|             Cyprus|    1|\n",
      "|    United States|            Estonia|    1|\n",
      "|    United States|          Lithuania|    1|\n",
      "|    United States|           Bulgaria|    1|\n",
      "|    United States|            Georgia|    1|\n",
      "|    United States|            Bahrain|    1|\n",
      "|    United States|   Papua New Guinea|    1|\n",
      "|    United States|         Montenegro|    1|\n",
      "|    United States|            Namibia|    1|\n",
      "|  New New Country|      Other Country|    1|\n",
      "+-----------------+-------------------+-----+\n",
      "\n"
     ]
    }
   ],
   "source": [
    "# df와 newDF를 통합(union) 하고 count 가1, ORIGIN_COUNTRY_NAME 이 'Untied States' 가 아닌 친구들을 보여줍니다.\n",
    "\n",
    "df.union(newDF).where(\"count=1\").where(col(\"ORIGIN_COUNTRY_NAME\") != \"United States\").show()"
   ]
  },
  {
   "cell_type": "markdown",
   "metadata": {
    "id": "Kq9Zo5Cddewy"
   },
   "source": [
    "### 데이터 정렬하기 sort 와 orderBy"
   ]
  },
  {
   "cell_type": "code",
   "execution_count": 39,
   "metadata": {
    "id": "N_T7cawEdewy",
    "outputId": "044317c0-c2c6-41ba-ad25-c3fc51bf5fc9"
   },
   "outputs": [
    {
     "name": "stdout",
     "output_type": "stream",
     "text": [
      "+--------------------+-------------------+-----+\n",
      "|   DEST_COUNTRY_NAME|ORIGIN_COUNTRY_NAME|count|\n",
      "+--------------------+-------------------+-----+\n",
      "|               Malta|      United States|    1|\n",
      "|Saint Vincent and...|      United States|    1|\n",
      "|       United States|            Croatia|    1|\n",
      "|       United States|          Gibraltar|    1|\n",
      "|       United States|          Singapore|    1|\n",
      "+--------------------+-------------------+-----+\n",
      "only showing top 5 rows\n",
      "\n",
      "+--------------------+-------------------+-----+\n",
      "|   DEST_COUNTRY_NAME|ORIGIN_COUNTRY_NAME|count|\n",
      "+--------------------+-------------------+-----+\n",
      "|               Malta|      United States|    1|\n",
      "|Saint Vincent and...|      United States|    1|\n",
      "|       United States|            Croatia|    1|\n",
      "|       United States|          Gibraltar|    1|\n",
      "|       United States|          Singapore|    1|\n",
      "+--------------------+-------------------+-----+\n",
      "only showing top 5 rows\n",
      "\n"
     ]
    }
   ],
   "source": [
    "# 데이터를 정렬하고 싶을 때 sort와 orderBy를 사용합니다. 두 개는 동일합니다.\n",
    "\n",
    "df.sort(\"count\").show(5)\n",
    "df.orderBy(\"count\").show(5)"
   ]
  },
  {
   "cell_type": "code",
   "execution_count": 40,
   "metadata": {
    "id": "vlXBD1YYdew0"
   },
   "outputs": [],
   "source": [
    "from pyspark.sql.functions import desc, asc"
   ]
  },
  {
   "cell_type": "code",
   "execution_count": 41,
   "metadata": {
    "id": "ggHrcVLcdew3",
    "outputId": "af267464-8228-46b7-b9e9-bf213347e273"
   },
   "outputs": [
    {
     "name": "stdout",
     "output_type": "stream",
     "text": [
      "+-----------------+-------------------+------+\n",
      "|DEST_COUNTRY_NAME|ORIGIN_COUNTRY_NAME| count|\n",
      "+-----------------+-------------------+------+\n",
      "|    United States|      United States|370002|\n",
      "|    United States|             Canada|  8483|\n",
      "|           Canada|      United States|  8399|\n",
      "|    United States|             Mexico|  7187|\n",
      "|           Mexico|      United States|  7140|\n",
      "+-----------------+-------------------+------+\n",
      "only showing top 5 rows\n",
      "\n"
     ]
    }
   ],
   "source": [
    "# 이런 식으로 오름차순, 내림차순의 설정도 가능하네요 :) \n",
    "\n",
    "df.orderBy(col(\"count\").desc(), col(\"DEST_COUNTRY_NAME\").asc()).show(5)"
   ]
  },
  {
   "cell_type": "code",
   "execution_count": 42,
   "metadata": {
    "id": "TOblpCmNdew5",
    "outputId": "419862f9-78a6-4371-971c-4b585927a833"
   },
   "outputs": [
    {
     "name": "stdout",
     "output_type": "stream",
     "text": [
      "+-----------------+-------------------+-----+\n",
      "|DEST_COUNTRY_NAME|ORIGIN_COUNTRY_NAME|count|\n",
      "+-----------------+-------------------+-----+\n",
      "|    United States|            Romania|   15|\n",
      "|    United States|            Croatia|    1|\n",
      "|    United States|            Ireland|  344|\n",
      "|            Egypt|      United States|   15|\n",
      "|    United States|              India|   62|\n",
      "+-----------------+-------------------+-----+\n",
      "\n"
     ]
    }
   ],
   "source": [
    "# 추출할 row의 수를 제한하고 싶으면 다음과 같이 limit 함수를 사용해주시면 됩니다 :) \n",
    "\n",
    "df.limit(5).show()"
   ]
  },
  {
   "cell_type": "code",
   "execution_count": 43,
   "metadata": {
    "id": "A45aIK3udew6",
    "outputId": "9a8ffc1c-e61f-4fa5-95e3-bcfce0b78673"
   },
   "outputs": [
    {
     "data": {
      "text/plain": [
       "DataFrame[DEST_COUNTRY_NAME: string, ORIGIN_COUNTRY_NAME: string, count: bigint]"
      ]
     },
     "execution_count": 43,
     "metadata": {},
     "output_type": "execute_result"
    }
   ],
   "source": [
    "#파티션 나누기도 가능합니다\n",
    "df.repartition(5,col(\"DEST_COUNTRY_NAME\"))"
   ]
  },
  {
   "cell_type": "markdown",
   "metadata": {
    "id": "gT-_KxEbdew8"
   },
   "source": [
    "### 데이터 수집하기 take() collect() show()"
   ]
  },
  {
   "cell_type": "code",
   "execution_count": 44,
   "metadata": {
    "id": "KrTcF322dew9",
    "outputId": "fbba7ea1-3965-4cae-a8fd-f8c8985d06d9"
   },
   "outputs": [
    {
     "data": {
      "text/plain": [
       "[Row(DEST_COUNTRY_NAME='United States', ORIGIN_COUNTRY_NAME='Romania', count=15),\n",
       " Row(DEST_COUNTRY_NAME='United States', ORIGIN_COUNTRY_NAME='Croatia', count=1),\n",
       " Row(DEST_COUNTRY_NAME='United States', ORIGIN_COUNTRY_NAME='Ireland', count=344),\n",
       " Row(DEST_COUNTRY_NAME='Egypt', ORIGIN_COUNTRY_NAME='United States', count=15),\n",
       " Row(DEST_COUNTRY_NAME='United States', ORIGIN_COUNTRY_NAME='India', count=62)]"
      ]
     },
     "execution_count": 44,
     "metadata": {},
     "output_type": "execute_result"
    }
   ],
   "source": [
    "# 우리는 분산처리에 대해 공부하고 있기 때문에 지금 보고 있는 DataFrame 또한 여러 클러스터에 나눠져있습니다.\n",
    "# 따라서 로컬환경에서 다루고자 한다면, 데이터를 \"수집\"해야합니다.\n",
    "\n",
    "df.take(5) # take는 상위 N개의 row를 반환합니다. 안 이쁘네요."
   ]
  },
  {
   "cell_type": "code",
   "execution_count": 45,
   "metadata": {
    "id": "lWkRmdATdew_",
    "outputId": "3d6658ff-9dea-4912-9024-5d58caf6361f"
   },
   "outputs": [
    {
     "data": {
      "text/plain": [
       "[Row(DEST_COUNTRY_NAME='United States', ORIGIN_COUNTRY_NAME='Romania', count=15),\n",
       " Row(DEST_COUNTRY_NAME='United States', ORIGIN_COUNTRY_NAME='Croatia', count=1),\n",
       " Row(DEST_COUNTRY_NAME='United States', ORIGIN_COUNTRY_NAME='Ireland', count=344),\n",
       " Row(DEST_COUNTRY_NAME='Egypt', ORIGIN_COUNTRY_NAME='United States', count=15),\n",
       " Row(DEST_COUNTRY_NAME='United States', ORIGIN_COUNTRY_NAME='India', count=62),\n",
       " Row(DEST_COUNTRY_NAME='United States', ORIGIN_COUNTRY_NAME='Singapore', count=1),\n",
       " Row(DEST_COUNTRY_NAME='United States', ORIGIN_COUNTRY_NAME='Grenada', count=62),\n",
       " Row(DEST_COUNTRY_NAME='Costa Rica', ORIGIN_COUNTRY_NAME='United States', count=588),\n",
       " Row(DEST_COUNTRY_NAME='Senegal', ORIGIN_COUNTRY_NAME='United States', count=40),\n",
       " Row(DEST_COUNTRY_NAME='Moldova', ORIGIN_COUNTRY_NAME='United States', count=1),\n",
       " Row(DEST_COUNTRY_NAME='United States', ORIGIN_COUNTRY_NAME='Sint Maarten', count=325),\n",
       " Row(DEST_COUNTRY_NAME='United States', ORIGIN_COUNTRY_NAME='Marshall Islands', count=39),\n",
       " Row(DEST_COUNTRY_NAME='Guyana', ORIGIN_COUNTRY_NAME='United States', count=64),\n",
       " Row(DEST_COUNTRY_NAME='Malta', ORIGIN_COUNTRY_NAME='United States', count=1),\n",
       " Row(DEST_COUNTRY_NAME='Anguilla', ORIGIN_COUNTRY_NAME='United States', count=41),\n",
       " Row(DEST_COUNTRY_NAME='Bolivia', ORIGIN_COUNTRY_NAME='United States', count=30),\n",
       " Row(DEST_COUNTRY_NAME='United States', ORIGIN_COUNTRY_NAME='Paraguay', count=6),\n",
       " Row(DEST_COUNTRY_NAME='Algeria', ORIGIN_COUNTRY_NAME='United States', count=4),\n",
       " Row(DEST_COUNTRY_NAME='Turks and Caicos Islands', ORIGIN_COUNTRY_NAME='United States', count=230),\n",
       " Row(DEST_COUNTRY_NAME='United States', ORIGIN_COUNTRY_NAME='Gibraltar', count=1),\n",
       " Row(DEST_COUNTRY_NAME='Saint Vincent and the Grenadines', ORIGIN_COUNTRY_NAME='United States', count=1),\n",
       " Row(DEST_COUNTRY_NAME='Italy', ORIGIN_COUNTRY_NAME='United States', count=382),\n",
       " Row(DEST_COUNTRY_NAME='United States', ORIGIN_COUNTRY_NAME='Federated States of Micronesia', count=69),\n",
       " Row(DEST_COUNTRY_NAME='United States', ORIGIN_COUNTRY_NAME='Russia', count=161),\n",
       " Row(DEST_COUNTRY_NAME='Pakistan', ORIGIN_COUNTRY_NAME='United States', count=12),\n",
       " Row(DEST_COUNTRY_NAME='United States', ORIGIN_COUNTRY_NAME='Netherlands', count=660),\n",
       " Row(DEST_COUNTRY_NAME='Iceland', ORIGIN_COUNTRY_NAME='United States', count=181),\n",
       " Row(DEST_COUNTRY_NAME='Marshall Islands', ORIGIN_COUNTRY_NAME='United States', count=42),\n",
       " Row(DEST_COUNTRY_NAME='Luxembourg', ORIGIN_COUNTRY_NAME='United States', count=155),\n",
       " Row(DEST_COUNTRY_NAME='Honduras', ORIGIN_COUNTRY_NAME='United States', count=362),\n",
       " Row(DEST_COUNTRY_NAME='The Bahamas', ORIGIN_COUNTRY_NAME='United States', count=955),\n",
       " Row(DEST_COUNTRY_NAME='United States', ORIGIN_COUNTRY_NAME='Senegal', count=42),\n",
       " Row(DEST_COUNTRY_NAME='El Salvador', ORIGIN_COUNTRY_NAME='United States', count=561),\n",
       " Row(DEST_COUNTRY_NAME='Samoa', ORIGIN_COUNTRY_NAME='United States', count=25),\n",
       " Row(DEST_COUNTRY_NAME='United States', ORIGIN_COUNTRY_NAME='Angola', count=13),\n",
       " Row(DEST_COUNTRY_NAME='Switzerland', ORIGIN_COUNTRY_NAME='United States', count=294),\n",
       " Row(DEST_COUNTRY_NAME='United States', ORIGIN_COUNTRY_NAME='Anguilla', count=38),\n",
       " Row(DEST_COUNTRY_NAME='Sint Maarten', ORIGIN_COUNTRY_NAME='United States', count=325),\n",
       " Row(DEST_COUNTRY_NAME='Hong Kong', ORIGIN_COUNTRY_NAME='United States', count=332),\n",
       " Row(DEST_COUNTRY_NAME='Trinidad and Tobago', ORIGIN_COUNTRY_NAME='United States', count=211),\n",
       " Row(DEST_COUNTRY_NAME='Latvia', ORIGIN_COUNTRY_NAME='United States', count=19),\n",
       " Row(DEST_COUNTRY_NAME='United States', ORIGIN_COUNTRY_NAME='Ecuador', count=300),\n",
       " Row(DEST_COUNTRY_NAME='Suriname', ORIGIN_COUNTRY_NAME='United States', count=1),\n",
       " Row(DEST_COUNTRY_NAME='Mexico', ORIGIN_COUNTRY_NAME='United States', count=7140),\n",
       " Row(DEST_COUNTRY_NAME='United States', ORIGIN_COUNTRY_NAME='Cyprus', count=1),\n",
       " Row(DEST_COUNTRY_NAME='Ecuador', ORIGIN_COUNTRY_NAME='United States', count=268),\n",
       " Row(DEST_COUNTRY_NAME='United States', ORIGIN_COUNTRY_NAME='Portugal', count=134),\n",
       " Row(DEST_COUNTRY_NAME='United States', ORIGIN_COUNTRY_NAME='Costa Rica', count=608),\n",
       " Row(DEST_COUNTRY_NAME='United States', ORIGIN_COUNTRY_NAME='Guatemala', count=318),\n",
       " Row(DEST_COUNTRY_NAME='United States', ORIGIN_COUNTRY_NAME='Suriname', count=34),\n",
       " Row(DEST_COUNTRY_NAME='Colombia', ORIGIN_COUNTRY_NAME='United States', count=873),\n",
       " Row(DEST_COUNTRY_NAME='United States', ORIGIN_COUNTRY_NAME='Cape Verde', count=14),\n",
       " Row(DEST_COUNTRY_NAME='United States', ORIGIN_COUNTRY_NAME='Jamaica', count=712),\n",
       " Row(DEST_COUNTRY_NAME='Norway', ORIGIN_COUNTRY_NAME='United States', count=121),\n",
       " Row(DEST_COUNTRY_NAME='United States', ORIGIN_COUNTRY_NAME='Malaysia', count=3),\n",
       " Row(DEST_COUNTRY_NAME='United States', ORIGIN_COUNTRY_NAME='Morocco', count=19),\n",
       " Row(DEST_COUNTRY_NAME='Thailand', ORIGIN_COUNTRY_NAME='United States', count=3),\n",
       " Row(DEST_COUNTRY_NAME='United States', ORIGIN_COUNTRY_NAME='Samoa', count=25),\n",
       " Row(DEST_COUNTRY_NAME='Venezuela', ORIGIN_COUNTRY_NAME='United States', count=290),\n",
       " Row(DEST_COUNTRY_NAME='United States', ORIGIN_COUNTRY_NAME='Palau', count=31),\n",
       " Row(DEST_COUNTRY_NAME='United States', ORIGIN_COUNTRY_NAME='Venezuela', count=246),\n",
       " Row(DEST_COUNTRY_NAME='Panama', ORIGIN_COUNTRY_NAME='United States', count=510),\n",
       " Row(DEST_COUNTRY_NAME='Antigua and Barbuda', ORIGIN_COUNTRY_NAME='United States', count=126),\n",
       " Row(DEST_COUNTRY_NAME='United States', ORIGIN_COUNTRY_NAME='Chile', count=185),\n",
       " Row(DEST_COUNTRY_NAME='Morocco', ORIGIN_COUNTRY_NAME='United States', count=15),\n",
       " Row(DEST_COUNTRY_NAME='United States', ORIGIN_COUNTRY_NAME='Finland', count=28),\n",
       " Row(DEST_COUNTRY_NAME='Azerbaijan', ORIGIN_COUNTRY_NAME='United States', count=21),\n",
       " Row(DEST_COUNTRY_NAME='United States', ORIGIN_COUNTRY_NAME='Greece', count=23),\n",
       " Row(DEST_COUNTRY_NAME='United States', ORIGIN_COUNTRY_NAME='The Bahamas', count=986),\n",
       " Row(DEST_COUNTRY_NAME='New Zealand', ORIGIN_COUNTRY_NAME='United States', count=111),\n",
       " Row(DEST_COUNTRY_NAME='Liberia', ORIGIN_COUNTRY_NAME='United States', count=2),\n",
       " Row(DEST_COUNTRY_NAME='United States', ORIGIN_COUNTRY_NAME='Hong Kong', count=414),\n",
       " Row(DEST_COUNTRY_NAME='Hungary', ORIGIN_COUNTRY_NAME='United States', count=2),\n",
       " Row(DEST_COUNTRY_NAME='United States', ORIGIN_COUNTRY_NAME='China', count=920),\n",
       " Row(DEST_COUNTRY_NAME='United States', ORIGIN_COUNTRY_NAME='Vietnam', count=2),\n",
       " Row(DEST_COUNTRY_NAME='Burkina Faso', ORIGIN_COUNTRY_NAME='United States', count=1),\n",
       " Row(DEST_COUNTRY_NAME='Sweden', ORIGIN_COUNTRY_NAME='United States', count=118),\n",
       " Row(DEST_COUNTRY_NAME='United States', ORIGIN_COUNTRY_NAME='Kuwait', count=28),\n",
       " Row(DEST_COUNTRY_NAME='United States', ORIGIN_COUNTRY_NAME='Dominican Republic', count=1420),\n",
       " Row(DEST_COUNTRY_NAME='United States', ORIGIN_COUNTRY_NAME='Egypt', count=12),\n",
       " Row(DEST_COUNTRY_NAME='Israel', ORIGIN_COUNTRY_NAME='United States', count=134),\n",
       " Row(DEST_COUNTRY_NAME='United States', ORIGIN_COUNTRY_NAME='United States', count=370002),\n",
       " Row(DEST_COUNTRY_NAME='Ethiopia', ORIGIN_COUNTRY_NAME='United States', count=13),\n",
       " Row(DEST_COUNTRY_NAME='United States', ORIGIN_COUNTRY_NAME='Luxembourg', count=134),\n",
       " Row(DEST_COUNTRY_NAME='United States', ORIGIN_COUNTRY_NAME='Poland', count=33),\n",
       " Row(DEST_COUNTRY_NAME='Martinique', ORIGIN_COUNTRY_NAME='United States', count=44),\n",
       " Row(DEST_COUNTRY_NAME='United States', ORIGIN_COUNTRY_NAME='Saint Barthelemy', count=41),\n",
       " Row(DEST_COUNTRY_NAME='Saint Barthelemy', ORIGIN_COUNTRY_NAME='United States', count=39),\n",
       " Row(DEST_COUNTRY_NAME='Barbados', ORIGIN_COUNTRY_NAME='United States', count=154),\n",
       " Row(DEST_COUNTRY_NAME='United States', ORIGIN_COUNTRY_NAME='Turkey', count=129),\n",
       " Row(DEST_COUNTRY_NAME='Djibouti', ORIGIN_COUNTRY_NAME='United States', count=1),\n",
       " Row(DEST_COUNTRY_NAME='United States', ORIGIN_COUNTRY_NAME='Azerbaijan', count=21),\n",
       " Row(DEST_COUNTRY_NAME='United States', ORIGIN_COUNTRY_NAME='Estonia', count=1),\n",
       " Row(DEST_COUNTRY_NAME='Germany', ORIGIN_COUNTRY_NAME='United States', count=1468),\n",
       " Row(DEST_COUNTRY_NAME='United States', ORIGIN_COUNTRY_NAME='South Korea', count=827),\n",
       " Row(DEST_COUNTRY_NAME='United States', ORIGIN_COUNTRY_NAME='El Salvador', count=508),\n",
       " Row(DEST_COUNTRY_NAME='Ireland', ORIGIN_COUNTRY_NAME='United States', count=335),\n",
       " Row(DEST_COUNTRY_NAME='United States', ORIGIN_COUNTRY_NAME='Hungary', count=3),\n",
       " Row(DEST_COUNTRY_NAME='Zambia', ORIGIN_COUNTRY_NAME='United States', count=1),\n",
       " Row(DEST_COUNTRY_NAME='Malaysia', ORIGIN_COUNTRY_NAME='United States', count=2),\n",
       " Row(DEST_COUNTRY_NAME='United States', ORIGIN_COUNTRY_NAME='Ethiopia', count=12),\n",
       " Row(DEST_COUNTRY_NAME='United States', ORIGIN_COUNTRY_NAME='Panama', count=465),\n",
       " Row(DEST_COUNTRY_NAME='United States', ORIGIN_COUNTRY_NAME='Aruba', count=342),\n",
       " Row(DEST_COUNTRY_NAME='United States', ORIGIN_COUNTRY_NAME='Thailand', count=4),\n",
       " Row(DEST_COUNTRY_NAME='United States', ORIGIN_COUNTRY_NAME='Turks and Caicos Islands', count=236),\n",
       " Row(DEST_COUNTRY_NAME='Croatia', ORIGIN_COUNTRY_NAME='United States', count=2),\n",
       " Row(DEST_COUNTRY_NAME='United States', ORIGIN_COUNTRY_NAME='Pakistan', count=12),\n",
       " Row(DEST_COUNTRY_NAME='Cyprus', ORIGIN_COUNTRY_NAME='United States', count=1),\n",
       " Row(DEST_COUNTRY_NAME='United States', ORIGIN_COUNTRY_NAME='Honduras', count=407),\n",
       " Row(DEST_COUNTRY_NAME='Fiji', ORIGIN_COUNTRY_NAME='United States', count=24),\n",
       " Row(DEST_COUNTRY_NAME='Qatar', ORIGIN_COUNTRY_NAME='United States', count=108),\n",
       " Row(DEST_COUNTRY_NAME='Saint Kitts and Nevis', ORIGIN_COUNTRY_NAME='United States', count=139),\n",
       " Row(DEST_COUNTRY_NAME='Kuwait', ORIGIN_COUNTRY_NAME='United States', count=32),\n",
       " Row(DEST_COUNTRY_NAME='Taiwan', ORIGIN_COUNTRY_NAME='United States', count=266),\n",
       " Row(DEST_COUNTRY_NAME='Haiti', ORIGIN_COUNTRY_NAME='United States', count=226),\n",
       " Row(DEST_COUNTRY_NAME='Canada', ORIGIN_COUNTRY_NAME='United States', count=8399),\n",
       " Row(DEST_COUNTRY_NAME='Federated States of Micronesia', ORIGIN_COUNTRY_NAME='United States', count=69),\n",
       " Row(DEST_COUNTRY_NAME='United States', ORIGIN_COUNTRY_NAME='Liberia', count=2),\n",
       " Row(DEST_COUNTRY_NAME='Jamaica', ORIGIN_COUNTRY_NAME='United States', count=666),\n",
       " Row(DEST_COUNTRY_NAME='United States', ORIGIN_COUNTRY_NAME='Malta', count=2),\n",
       " Row(DEST_COUNTRY_NAME='Dominican Republic', ORIGIN_COUNTRY_NAME='United States', count=1353),\n",
       " Row(DEST_COUNTRY_NAME='Japan', ORIGIN_COUNTRY_NAME='United States', count=1548),\n",
       " Row(DEST_COUNTRY_NAME='United States', ORIGIN_COUNTRY_NAME='Lithuania', count=1),\n",
       " Row(DEST_COUNTRY_NAME='Finland', ORIGIN_COUNTRY_NAME='United States', count=26),\n",
       " Row(DEST_COUNTRY_NAME='United States', ORIGIN_COUNTRY_NAME='Guadeloupe', count=59),\n",
       " Row(DEST_COUNTRY_NAME='United States', ORIGIN_COUNTRY_NAME='Ukraine', count=13),\n",
       " Row(DEST_COUNTRY_NAME='United States', ORIGIN_COUNTRY_NAME='France', count=952),\n",
       " Row(DEST_COUNTRY_NAME='United States', ORIGIN_COUNTRY_NAME='Norway', count=115),\n",
       " Row(DEST_COUNTRY_NAME='Aruba', ORIGIN_COUNTRY_NAME='United States', count=346),\n",
       " Row(DEST_COUNTRY_NAME='French Guiana', ORIGIN_COUNTRY_NAME='United States', count=5),\n",
       " Row(DEST_COUNTRY_NAME='United States', ORIGIN_COUNTRY_NAME='Kiribati', count=35),\n",
       " Row(DEST_COUNTRY_NAME='India', ORIGIN_COUNTRY_NAME='United States', count=61),\n",
       " Row(DEST_COUNTRY_NAME='British Virgin Islands', ORIGIN_COUNTRY_NAME='United States', count=107),\n",
       " Row(DEST_COUNTRY_NAME='Brazil', ORIGIN_COUNTRY_NAME='United States', count=853),\n",
       " Row(DEST_COUNTRY_NAME='United States', ORIGIN_COUNTRY_NAME='Germany', count=1336),\n",
       " Row(DEST_COUNTRY_NAME='United States', ORIGIN_COUNTRY_NAME='New Zealand', count=74),\n",
       " Row(DEST_COUNTRY_NAME='French Polynesia', ORIGIN_COUNTRY_NAME='United States', count=43),\n",
       " Row(DEST_COUNTRY_NAME='United Arab Emirates', ORIGIN_COUNTRY_NAME='United States', count=320),\n",
       " Row(DEST_COUNTRY_NAME='Singapore', ORIGIN_COUNTRY_NAME='United States', count=3),\n",
       " Row(DEST_COUNTRY_NAME='United States', ORIGIN_COUNTRY_NAME='Mexico', count=7187),\n",
       " Row(DEST_COUNTRY_NAME='United States', ORIGIN_COUNTRY_NAME='Sweden', count=119),\n",
       " Row(DEST_COUNTRY_NAME='Netherlands', ORIGIN_COUNTRY_NAME='United States', count=776),\n",
       " Row(DEST_COUNTRY_NAME='United States', ORIGIN_COUNTRY_NAME='Martinique', count=43),\n",
       " Row(DEST_COUNTRY_NAME='United States', ORIGIN_COUNTRY_NAME='United Arab Emirates', count=313),\n",
       " Row(DEST_COUNTRY_NAME='United States', ORIGIN_COUNTRY_NAME='Bulgaria', count=1),\n",
       " Row(DEST_COUNTRY_NAME='Denmark', ORIGIN_COUNTRY_NAME='United States', count=153),\n",
       " Row(DEST_COUNTRY_NAME='China', ORIGIN_COUNTRY_NAME='United States', count=772),\n",
       " Row(DEST_COUNTRY_NAME='United States', ORIGIN_COUNTRY_NAME='Nicaragua', count=201),\n",
       " Row(DEST_COUNTRY_NAME='United States', ORIGIN_COUNTRY_NAME='Philippines', count=126),\n",
       " Row(DEST_COUNTRY_NAME='United States', ORIGIN_COUNTRY_NAME='Georgia', count=1),\n",
       " Row(DEST_COUNTRY_NAME='United States', ORIGIN_COUNTRY_NAME='Belgium', count=228),\n",
       " Row(DEST_COUNTRY_NAME='Cayman Islands', ORIGIN_COUNTRY_NAME='United States', count=314),\n",
       " Row(DEST_COUNTRY_NAME='Argentina', ORIGIN_COUNTRY_NAME='United States', count=180),\n",
       " Row(DEST_COUNTRY_NAME='Peru', ORIGIN_COUNTRY_NAME='United States', count=279),\n",
       " Row(DEST_COUNTRY_NAME='South Africa', ORIGIN_COUNTRY_NAME='United States', count=36),\n",
       " Row(DEST_COUNTRY_NAME='United States', ORIGIN_COUNTRY_NAME='Iceland', count=202),\n",
       " Row(DEST_COUNTRY_NAME='United States', ORIGIN_COUNTRY_NAME='Argentina', count=141),\n",
       " Row(DEST_COUNTRY_NAME='Spain', ORIGIN_COUNTRY_NAME='United States', count=420),\n",
       " Row(DEST_COUNTRY_NAME='Bermuda', ORIGIN_COUNTRY_NAME='United States', count=183),\n",
       " Row(DEST_COUNTRY_NAME='United States', ORIGIN_COUNTRY_NAME='Nigeria', count=50),\n",
       " Row(DEST_COUNTRY_NAME='United States', ORIGIN_COUNTRY_NAME='Austria', count=63),\n",
       " Row(DEST_COUNTRY_NAME='United States', ORIGIN_COUNTRY_NAME='Bonaire, Sint Eustatius, and Saba', count=59),\n",
       " Row(DEST_COUNTRY_NAME='Kiribati', ORIGIN_COUNTRY_NAME='United States', count=26),\n",
       " Row(DEST_COUNTRY_NAME='Saudi Arabia', ORIGIN_COUNTRY_NAME='United States', count=83),\n",
       " Row(DEST_COUNTRY_NAME='Czech Republic', ORIGIN_COUNTRY_NAME='United States', count=13),\n",
       " Row(DEST_COUNTRY_NAME='United States', ORIGIN_COUNTRY_NAME='Israel', count=127),\n",
       " Row(DEST_COUNTRY_NAME='Belgium', ORIGIN_COUNTRY_NAME='United States', count=259),\n",
       " Row(DEST_COUNTRY_NAME='United States', ORIGIN_COUNTRY_NAME='Saint Lucia', count=136),\n",
       " Row(DEST_COUNTRY_NAME='United States', ORIGIN_COUNTRY_NAME='Bahrain', count=1),\n",
       " Row(DEST_COUNTRY_NAME='United States', ORIGIN_COUNTRY_NAME='British Virgin Islands', count=80),\n",
       " Row(DEST_COUNTRY_NAME='Curacao', ORIGIN_COUNTRY_NAME='United States', count=90),\n",
       " Row(DEST_COUNTRY_NAME='Georgia', ORIGIN_COUNTRY_NAME='United States', count=2),\n",
       " Row(DEST_COUNTRY_NAME='United States', ORIGIN_COUNTRY_NAME='Denmark', count=152),\n",
       " Row(DEST_COUNTRY_NAME='United States', ORIGIN_COUNTRY_NAME='Guyana', count=63),\n",
       " Row(DEST_COUNTRY_NAME='Philippines', ORIGIN_COUNTRY_NAME='United States', count=134),\n",
       " Row(DEST_COUNTRY_NAME='Grenada', ORIGIN_COUNTRY_NAME='United States', count=53),\n",
       " Row(DEST_COUNTRY_NAME='Cape Verde', ORIGIN_COUNTRY_NAME='United States', count=20),\n",
       " Row(DEST_COUNTRY_NAME=\"Cote d'Ivoire\", ORIGIN_COUNTRY_NAME='United States', count=1),\n",
       " Row(DEST_COUNTRY_NAME='Ukraine', ORIGIN_COUNTRY_NAME='United States', count=14),\n",
       " Row(DEST_COUNTRY_NAME='United States', ORIGIN_COUNTRY_NAME='Papua New Guinea', count=1),\n",
       " Row(DEST_COUNTRY_NAME='Russia', ORIGIN_COUNTRY_NAME='United States', count=176),\n",
       " Row(DEST_COUNTRY_NAME='United States', ORIGIN_COUNTRY_NAME='Saudi Arabia', count=70),\n",
       " Row(DEST_COUNTRY_NAME='Guatemala', ORIGIN_COUNTRY_NAME='United States', count=397),\n",
       " Row(DEST_COUNTRY_NAME='Saint Lucia', ORIGIN_COUNTRY_NAME='United States', count=123),\n",
       " Row(DEST_COUNTRY_NAME='Paraguay', ORIGIN_COUNTRY_NAME='United States', count=60),\n",
       " Row(DEST_COUNTRY_NAME='United States', ORIGIN_COUNTRY_NAME='Curacao', count=83),\n",
       " Row(DEST_COUNTRY_NAME='Kosovo', ORIGIN_COUNTRY_NAME='United States', count=1),\n",
       " Row(DEST_COUNTRY_NAME='United States', ORIGIN_COUNTRY_NAME='Taiwan', count=235),\n",
       " Row(DEST_COUNTRY_NAME='Tunisia', ORIGIN_COUNTRY_NAME='United States', count=3),\n",
       " Row(DEST_COUNTRY_NAME='United States', ORIGIN_COUNTRY_NAME='South Africa', count=40),\n",
       " Row(DEST_COUNTRY_NAME='Niger', ORIGIN_COUNTRY_NAME='United States', count=2),\n",
       " Row(DEST_COUNTRY_NAME='Turkey', ORIGIN_COUNTRY_NAME='United States', count=138),\n",
       " Row(DEST_COUNTRY_NAME='United Kingdom', ORIGIN_COUNTRY_NAME='United States', count=2025),\n",
       " Row(DEST_COUNTRY_NAME='Romania', ORIGIN_COUNTRY_NAME='United States', count=14),\n",
       " Row(DEST_COUNTRY_NAME='United States', ORIGIN_COUNTRY_NAME='Greenland', count=4),\n",
       " Row(DEST_COUNTRY_NAME='Papua New Guinea', ORIGIN_COUNTRY_NAME='United States', count=3),\n",
       " Row(DEST_COUNTRY_NAME='United States', ORIGIN_COUNTRY_NAME='Spain', count=442),\n",
       " Row(DEST_COUNTRY_NAME='Iraq', ORIGIN_COUNTRY_NAME='United States', count=1),\n",
       " Row(DEST_COUNTRY_NAME='United States', ORIGIN_COUNTRY_NAME='Italy', count=438),\n",
       " Row(DEST_COUNTRY_NAME='Cuba', ORIGIN_COUNTRY_NAME='United States', count=466),\n",
       " Row(DEST_COUNTRY_NAME='United States', ORIGIN_COUNTRY_NAME='Switzerland', count=305),\n",
       " Row(DEST_COUNTRY_NAME='Dominica', ORIGIN_COUNTRY_NAME='United States', count=20),\n",
       " Row(DEST_COUNTRY_NAME='United States', ORIGIN_COUNTRY_NAME='Japan', count=1496),\n",
       " Row(DEST_COUNTRY_NAME='Portugal', ORIGIN_COUNTRY_NAME='United States', count=127),\n",
       " Row(DEST_COUNTRY_NAME='United States', ORIGIN_COUNTRY_NAME='Brazil', count=619),\n",
       " Row(DEST_COUNTRY_NAME='Bahrain', ORIGIN_COUNTRY_NAME='United States', count=19),\n",
       " Row(DEST_COUNTRY_NAME='United States', ORIGIN_COUNTRY_NAME='Peru', count=337),\n",
       " Row(DEST_COUNTRY_NAME='Indonesia', ORIGIN_COUNTRY_NAME='United States', count=1),\n",
       " Row(DEST_COUNTRY_NAME='United States', ORIGIN_COUNTRY_NAME='Belize', count=193),\n",
       " Row(DEST_COUNTRY_NAME='United States', ORIGIN_COUNTRY_NAME='United Kingdom', count=1970),\n",
       " Row(DEST_COUNTRY_NAME='Belize', ORIGIN_COUNTRY_NAME='United States', count=188),\n",
       " Row(DEST_COUNTRY_NAME='United States', ORIGIN_COUNTRY_NAME='Ghana', count=20),\n",
       " Row(DEST_COUNTRY_NAME='United States', ORIGIN_COUNTRY_NAME='Indonesia', count=2),\n",
       " Row(DEST_COUNTRY_NAME='United States', ORIGIN_COUNTRY_NAME='Fiji', count=25),\n",
       " Row(DEST_COUNTRY_NAME='United States', ORIGIN_COUNTRY_NAME='Canada', count=8483),\n",
       " Row(DEST_COUNTRY_NAME='United States', ORIGIN_COUNTRY_NAME='Antigua and Barbuda', count=117),\n",
       " Row(DEST_COUNTRY_NAME='United States', ORIGIN_COUNTRY_NAME='French Polynesia', count=40),\n",
       " Row(DEST_COUNTRY_NAME='Nicaragua', ORIGIN_COUNTRY_NAME='United States', count=179),\n",
       " Row(DEST_COUNTRY_NAME='United States', ORIGIN_COUNTRY_NAME='Latvia', count=15),\n",
       " Row(DEST_COUNTRY_NAME='United States', ORIGIN_COUNTRY_NAME='Dominica', count=27),\n",
       " Row(DEST_COUNTRY_NAME='United States', ORIGIN_COUNTRY_NAME='Czech Republic', count=12),\n",
       " Row(DEST_COUNTRY_NAME='United States', ORIGIN_COUNTRY_NAME='Australia', count=258),\n",
       " Row(DEST_COUNTRY_NAME='United States', ORIGIN_COUNTRY_NAME='Cook Islands', count=13),\n",
       " Row(DEST_COUNTRY_NAME='Austria', ORIGIN_COUNTRY_NAME='United States', count=62),\n",
       " Row(DEST_COUNTRY_NAME='Jordan', ORIGIN_COUNTRY_NAME='United States', count=44),\n",
       " Row(DEST_COUNTRY_NAME='Palau', ORIGIN_COUNTRY_NAME='United States', count=30),\n",
       " Row(DEST_COUNTRY_NAME='South Korea', ORIGIN_COUNTRY_NAME='United States', count=1048),\n",
       " Row(DEST_COUNTRY_NAME='Angola', ORIGIN_COUNTRY_NAME='United States', count=15),\n",
       " Row(DEST_COUNTRY_NAME='Ghana', ORIGIN_COUNTRY_NAME='United States', count=18),\n",
       " Row(DEST_COUNTRY_NAME='New Caledonia', ORIGIN_COUNTRY_NAME='United States', count=1),\n",
       " Row(DEST_COUNTRY_NAME='Guadeloupe', ORIGIN_COUNTRY_NAME='United States', count=56),\n",
       " Row(DEST_COUNTRY_NAME='France', ORIGIN_COUNTRY_NAME='United States', count=935),\n",
       " Row(DEST_COUNTRY_NAME='Poland', ORIGIN_COUNTRY_NAME='United States', count=32),\n",
       " Row(DEST_COUNTRY_NAME='Nigeria', ORIGIN_COUNTRY_NAME='United States', count=59),\n",
       " Row(DEST_COUNTRY_NAME='United States', ORIGIN_COUNTRY_NAME='Uruguay', count=13),\n",
       " Row(DEST_COUNTRY_NAME='Greenland', ORIGIN_COUNTRY_NAME='United States', count=2),\n",
       " Row(DEST_COUNTRY_NAME='United States', ORIGIN_COUNTRY_NAME='Bermuda', count=193),\n",
       " Row(DEST_COUNTRY_NAME='Chile', ORIGIN_COUNTRY_NAME='United States', count=174),\n",
       " Row(DEST_COUNTRY_NAME='United States', ORIGIN_COUNTRY_NAME='Cuba', count=478),\n",
       " Row(DEST_COUNTRY_NAME='United States', ORIGIN_COUNTRY_NAME='Montenegro', count=1),\n",
       " Row(DEST_COUNTRY_NAME='United States', ORIGIN_COUNTRY_NAME='Colombia', count=867),\n",
       " Row(DEST_COUNTRY_NAME='United States', ORIGIN_COUNTRY_NAME='Barbados', count=130),\n",
       " Row(DEST_COUNTRY_NAME='United States', ORIGIN_COUNTRY_NAME='Qatar', count=109),\n",
       " Row(DEST_COUNTRY_NAME='Australia', ORIGIN_COUNTRY_NAME='United States', count=329),\n",
       " Row(DEST_COUNTRY_NAME='United States', ORIGIN_COUNTRY_NAME='Cayman Islands', count=310),\n",
       " Row(DEST_COUNTRY_NAME='United States', ORIGIN_COUNTRY_NAME='Jordan', count=44),\n",
       " Row(DEST_COUNTRY_NAME='United States', ORIGIN_COUNTRY_NAME='Namibia', count=1),\n",
       " Row(DEST_COUNTRY_NAME='United States', ORIGIN_COUNTRY_NAME='Trinidad and Tobago', count=217),\n",
       " Row(DEST_COUNTRY_NAME='United States', ORIGIN_COUNTRY_NAME='Bolivia', count=13),\n",
       " Row(DEST_COUNTRY_NAME='Cook Islands', ORIGIN_COUNTRY_NAME='United States', count=13),\n",
       " Row(DEST_COUNTRY_NAME='Bulgaria', ORIGIN_COUNTRY_NAME='United States', count=3),\n",
       " Row(DEST_COUNTRY_NAME='United States', ORIGIN_COUNTRY_NAME='Saint Kitts and Nevis', count=145),\n",
       " Row(DEST_COUNTRY_NAME='Uruguay', ORIGIN_COUNTRY_NAME='United States', count=43),\n",
       " Row(DEST_COUNTRY_NAME='United States', ORIGIN_COUNTRY_NAME='Haiti', count=225),\n",
       " Row(DEST_COUNTRY_NAME='Bonaire, Sint Eustatius, and Saba', ORIGIN_COUNTRY_NAME='United States', count=58),\n",
       " Row(DEST_COUNTRY_NAME='Greece', ORIGIN_COUNTRY_NAME='United States', count=30)]"
      ]
     },
     "execution_count": 45,
     "metadata": {},
     "output_type": "execute_result"
    }
   ],
   "source": [
    "df.collect() # DataFrame의 모든 데이터를 수집합니다. 이쁘진 않네요"
   ]
  },
  {
   "cell_type": "code",
   "execution_count": 46,
   "metadata": {},
   "outputs": [
    {
     "name": "stdout",
     "output_type": "stream",
     "text": [
      "+-----------------+-------------------+-----+\n",
      "|DEST_COUNTRY_NAME|ORIGIN_COUNTRY_NAME|count|\n",
      "+-----------------+-------------------+-----+\n",
      "|    United States|            Romania|   15|\n",
      "|    United States|            Croatia|    1|\n",
      "|    United States|            Ireland|  344|\n",
      "|            Egypt|      United States|   15|\n",
      "|    United States|              India|   62|\n",
      "+-----------------+-------------------+-----+\n",
      "only showing top 5 rows\n",
      "\n"
     ]
    }
   ],
   "source": [
    "df.show(5) #이렇게 해야 예쁘다."
   ]
  },
  {
   "cell_type": "markdown",
   "metadata": {
    "id": "UcduGj1AdexB"
   },
   "source": [
    "## 집계함수"
   ]
  },
  {
   "cell_type": "code",
   "execution_count": 48,
   "metadata": {
    "id": "Z1qF_ymZdexB"
   },
   "outputs": [],
   "source": [
    "#다른 데이터도 불러옵니다\n",
    "df = spark.read.format(\"csv\")\\\n",
    "  .option(\"header\", \"true\")\\\n",
    "  .option(\"inferSchema\", \"true\")\\\n",
    "  .load(\"file:///home/ubuntu/spark_study/1010practice/2010-12-01.csv\")\\\n",
    "  .coalesce(5)"
   ]
  },
  {
   "cell_type": "markdown",
   "metadata": {
    "id": "vlb3HH3YdexD"
   },
   "source": [
    "### count"
   ]
  },
  {
   "cell_type": "code",
   "execution_count": 49,
   "metadata": {
    "id": "E1EqcNsLdexD",
    "outputId": "ba1797c6-f82e-47ca-e5ec-0488e60f9252"
   },
   "outputs": [
    {
     "name": "stdout",
     "output_type": "stream",
     "text": [
      "+----------------+\n",
      "|count(StockCode)|\n",
      "+----------------+\n",
      "|            3108|\n",
      "+----------------+\n",
      "\n"
     ]
    }
   ],
   "source": [
    "# 레코드의 전체 수를 확인하기 위해 count 함수를 사용합니다.\n",
    "from pyspark.sql.functions import count\n",
    "df.select(count(\"StockCode\")).show()"
   ]
  },
  {
   "cell_type": "markdown",
   "metadata": {
    "id": "3S_0UmL6dexF"
   },
   "source": [
    "### countDistinct"
   ]
  },
  {
   "cell_type": "code",
   "execution_count": 50,
   "metadata": {
    "id": "8vkcQyYUdexG",
    "outputId": "0d07865a-a29c-4955-b273-ce431f5e63da"
   },
   "outputs": [
    {
     "name": "stdout",
     "output_type": "stream",
     "text": [
      "+-------------------------+\n",
      "|count(DISTINCT StockCode)|\n",
      "+-------------------------+\n",
      "|                     1351|\n",
      "+-------------------------+\n",
      "\n"
     ]
    }
   ],
   "source": [
    "# 고유 레코드 수를 알고자 한다면 countDistinct를 사용해줍니다.\n",
    "from pyspark.sql.functions import countDistinct\n",
    "df.select(countDistinct(\"StockCode\")).show()"
   ]
  },
  {
   "cell_type": "markdown",
   "metadata": {
    "id": "ph6GYv2GdexI"
   },
   "source": [
    "### approx_count_Distinct"
   ]
  },
  {
   "cell_type": "code",
   "execution_count": 51,
   "metadata": {
    "id": "GLE5kXutdexI",
    "outputId": "d6a080af-955d-4f17-bfc9-8ee5864232be"
   },
   "outputs": [
    {
     "name": "stdout",
     "output_type": "stream",
     "text": [
      "+--------------------------------+\n",
      "|approx_count_distinct(StockCode)|\n",
      "+--------------------------------+\n",
      "|                            1382|\n",
      "+--------------------------------+\n",
      "\n"
     ]
    }
   ],
   "source": [
    "# 어느 정도 수준의 정확도를 가지는 적당한 근사치만 알고 싶을 수 있습니다. 이건 위에보다 빠릅니다\n",
    "from pyspark.sql.functions import approx_count_distinct\n",
    "df.select(approx_count_distinct(\"StockCode\", 0.1)).show()"
   ]
  },
  {
   "cell_type": "markdown",
   "metadata": {
    "id": "rW6v_O0odexK"
   },
   "source": [
    "### first, last"
   ]
  },
  {
   "cell_type": "code",
   "execution_count": 52,
   "metadata": {
    "id": "rhXVvH7NdexK",
    "outputId": "90f14260-22e5-4434-956e-dfd8e0a9f7fe"
   },
   "outputs": [
    {
     "name": "stdout",
     "output_type": "stream",
     "text": [
      "+----------------+---------------+\n",
      "|first(StockCode)|last(StockCode)|\n",
      "+----------------+---------------+\n",
      "|          85123A|          20755|\n",
      "+----------------+---------------+\n",
      "\n"
     ]
    }
   ],
   "source": [
    "# 가장 첫 열과 마지막 열을 보기 위해 위에서 사용했던 것처럼 first와 last를 이용할 수 있습니다.\n",
    "from pyspark.sql.functions import first, last\n",
    "df.select(first(\"StockCode\"), last(\"StockCode\")).show()"
   ]
  },
  {
   "cell_type": "markdown",
   "metadata": {
    "id": "-9WHKraFdexM"
   },
   "source": [
    "### min, max, sum, sumDistinct, avg"
   ]
  },
  {
   "cell_type": "code",
   "execution_count": 53,
   "metadata": {
    "id": "T3h9X8XIdexM",
    "outputId": "60e3fa5f-f2d8-498f-e429-4c427f82dd10"
   },
   "outputs": [
    {
     "name": "stdout",
     "output_type": "stream",
     "text": [
      "+-------------+-------------+-------------+-----------------+----------------------+\n",
      "|min(Quantity)|max(Quantity)|sum(Quantity)|    avg(Quantity)|sum(DISTINCT Quantity)|\n",
      "+-------------+-------------+-------------+-----------------+----------------------+\n",
      "|          -24|          600|        26814|8.627413127413128|                  4690|\n",
      "+-------------+-------------+-------------+-----------------+----------------------+\n",
      "\n"
     ]
    }
   ],
   "source": [
    "# 예상하셨겠지만 min, max, sum, avg 또한 가능합니다. sumDistinct는 고유값들의 합입니다.\n",
    "from pyspark.sql.functions import min, max, sum, avg, sumDistinct\n",
    "\n",
    "df.select(min(\"Quantity\"), max(\"Quantity\"), sum(\"Quantity\"), avg(\"Quantity\"), sumDistinct(\"Quantity\")).show()"
   ]
  },
  {
   "cell_type": "markdown",
   "metadata": {
    "id": "3JVHYNWedexO"
   },
   "source": [
    "### 분산과 표준편차"
   ]
  },
  {
   "cell_type": "code",
   "execution_count": 54,
   "metadata": {
    "id": "kxU_gggedexO",
    "outputId": "5c7af8e5-4b5d-4626-9ed0-be83209d136e"
   },
   "outputs": [
    {
     "name": "stdout",
     "output_type": "stream",
     "text": [
      "+-----------------+------------------+--------------------+---------------------+\n",
      "|var_pop(Quantity)|var_samp(Quantity)|stddev_pop(Quantity)|stddev_samp(Quantity)|\n",
      "+-----------------+------------------+--------------------+---------------------+\n",
      "|695.2492099104054| 695.4729785650273|  26.367578764657278|   26.371821677029203|\n",
      "+-----------------+------------------+--------------------+---------------------+\n",
      "\n"
     ]
    }
   ],
   "source": [
    "# 분산과 표준편차도 제공합니다\n",
    "from pyspark.sql.functions import var_pop, stddev_pop\n",
    "from pyspark.sql.functions import var_samp, stddev_samp\n",
    "df.select(var_pop(\"Quantity\"), var_samp(\"Quantity\"),\n",
    "  stddev_pop(\"Quantity\"), stddev_samp(\"Quantity\")).show()"
   ]
  },
  {
   "cell_type": "markdown",
   "metadata": {
    "id": "KB3TtHkJdexQ"
   },
   "source": [
    "### 공분산과 상관관계"
   ]
  },
  {
   "cell_type": "code",
   "execution_count": 55,
   "metadata": {
    "id": "fS4a3FPKdexQ",
    "outputId": "9b7f9692-c690-4494-f236-1411d73b74ef"
   },
   "outputs": [
    {
     "name": "stdout",
     "output_type": "stream",
     "text": [
      "+-------------------------+-------------------------------+------------------------------+\n",
      "|corr(InvoiceNo, Quantity)|covar_samp(InvoiceNo, Quantity)|covar_pop(InvoiceNo, Quantity)|\n",
      "+-------------------------+-------------------------------+------------------------------+\n",
      "|     -0.12225395743668731|            -235.56327681311157|            -235.4868448608685|\n",
      "+-------------------------+-------------------------------+------------------------------+\n",
      "\n"
     ]
    }
   ],
   "source": [
    "from pyspark.sql.functions import corr, covar_pop, covar_samp\n",
    "df.select(corr(\"InvoiceNo\", \"Quantity\"), covar_samp(\"InvoiceNo\", \"Quantity\"),\n",
    "    covar_pop(\"InvoiceNo\", \"Quantity\")).show()"
   ]
  },
  {
   "cell_type": "markdown",
   "metadata": {
    "id": "TIUS-nmtdexS"
   },
   "source": [
    "### Groupby"
   ]
  },
  {
   "cell_type": "code",
   "execution_count": 56,
   "metadata": {
    "id": "KWgrQMbcdexS",
    "outputId": "25ed515b-4fb8-465b-d60a-c05c39beccb4"
   },
   "outputs": [
    {
     "name": "stdout",
     "output_type": "stream",
     "text": [
      "+---------+----+\n",
      "|InvoiceNo|quan|\n",
      "+---------+----+\n",
      "|   536596|   6|\n",
      "|   536597|  28|\n",
      "|   536414|   1|\n",
      "|   536550|   1|\n",
      "|   536460|  14|\n",
      "|   536398|  17|\n",
      "|   536523|  12|\n",
      "|   536374|   1|\n",
      "|   536386|   3|\n",
      "|   536577|   4|\n",
      "|   536477|  14|\n",
      "|   536583|   1|\n",
      "|   536528|  57|\n",
      "|   536585|   1|\n",
      "|   536366|   2|\n",
      "|   536592| 592|\n",
      "|   536541|   1|\n",
      "|   536387|   5|\n",
      "|   536385|   7|\n",
      "|   536375|  16|\n",
      "+---------+----+\n",
      "only showing top 20 rows\n",
      "\n"
     ]
    }
   ],
   "source": [
    "from pyspark.sql.functions import count, expr\n",
    "\n",
    "df.groupBy(\"InvoiceNo\").agg(\n",
    "    count(\"Quantity\").alias(\"quan\")).show()"
   ]
  },
  {
   "cell_type": "markdown",
   "metadata": {
    "id": "48mb2TxYdexU"
   },
   "source": [
    "### MAP"
   ]
  },
  {
   "cell_type": "code",
   "execution_count": 57,
   "metadata": {
    "id": "t6CLF5aNdexU",
    "outputId": "6bf1fc88-b0bf-4146-d151-605b20a93b07"
   },
   "outputs": [
    {
     "name": "stdout",
     "output_type": "stream",
     "text": [
      "+------------------------+\n",
      "|map(InvoiceNo, Quantity)|\n",
      "+------------------------+\n",
      "|           [536365 -> 6]|\n",
      "|           [536365 -> 6]|\n",
      "|           [536365 -> 8]|\n",
      "|           [536365 -> 6]|\n",
      "|           [536365 -> 6]|\n",
      "|           [536365 -> 2]|\n",
      "|           [536365 -> 6]|\n",
      "|           [536366 -> 6]|\n",
      "|           [536366 -> 6]|\n",
      "|          [536367 -> 32]|\n",
      "|           [536367 -> 6]|\n",
      "|           [536367 -> 6]|\n",
      "|           [536367 -> 8]|\n",
      "|           [536367 -> 6]|\n",
      "|           [536367 -> 6]|\n",
      "|           [536367 -> 3]|\n",
      "|           [536367 -> 2]|\n",
      "|           [536367 -> 3]|\n",
      "|           [536367 -> 3]|\n",
      "|           [536367 -> 4]|\n",
      "+------------------------+\n",
      "only showing top 20 rows\n",
      "\n"
     ]
    }
   ],
   "source": [
    "# 이런식으로 매핑도 가능합니다\n",
    "from pyspark.sql.functions import create_map, col\n",
    "\n",
    "df.select(create_map(col(\"InvoiceNo\"), col(\"Quantity\"))).show()"
   ]
  },
  {
   "cell_type": "markdown",
   "metadata": {
    "id": "tLLYtgpjdexW"
   },
   "source": [
    "### Rollup"
   ]
  },
  {
   "cell_type": "code",
   "execution_count": 59,
   "metadata": {
    "id": "HmQB4-MzdexW",
    "outputId": "3ce6f21b-e463-441f-a53a-b7e5646f78b5"
   },
   "outputs": [
    {
     "ename": "NameError",
     "evalue": "name 'dfWithDate' is not defined",
     "output_type": "error",
     "traceback": [
      "\u001b[0;31m---------------------------------------------------------------------------\u001b[0m",
      "\u001b[0;31mNameError\u001b[0m                                 Traceback (most recent call last)",
      "\u001b[0;32m<ipython-input-59-e70cbd5c22e7>\u001b[0m in \u001b[0;36m<module>\u001b[0;34m\u001b[0m\n\u001b[1;32m      1\u001b[0m \u001b[0;31m#groupby에서 Multi-dimensional을 사용할때 쓰게됩니다\u001b[0m\u001b[0;34m\u001b[0m\u001b[0;34m\u001b[0m\u001b[0;34m\u001b[0m\u001b[0m\n\u001b[0;32m----> 2\u001b[0;31m \u001b[0mdfNoNull\u001b[0m \u001b[0;34m=\u001b[0m \u001b[0mdfWithDate\u001b[0m\u001b[0;34m.\u001b[0m\u001b[0mdrop\u001b[0m\u001b[0;34m(\u001b[0m\u001b[0;34m)\u001b[0m\u001b[0;34m\u001b[0m\u001b[0;34m\u001b[0m\u001b[0m\n\u001b[0m\u001b[1;32m      3\u001b[0m \u001b[0mdfNoNull\u001b[0m\u001b[0;34m.\u001b[0m\u001b[0mcreateOrReplaceTempView\u001b[0m\u001b[0;34m(\u001b[0m\u001b[0;34m\"dfNoNull\"\u001b[0m\u001b[0;34m)\u001b[0m\u001b[0;34m\u001b[0m\u001b[0;34m\u001b[0m\u001b[0m\n\u001b[1;32m      4\u001b[0m \u001b[0;34m\u001b[0m\u001b[0m\n\u001b[1;32m      5\u001b[0m \u001b[0;34m\u001b[0m\u001b[0m\n",
      "\u001b[0;31mNameError\u001b[0m: name 'dfWithDate' is not defined"
     ]
    }
   ],
   "source": [
    "#groupby에서 Multi-dimensional을 사용할때 쓰게됩니다\n",
    "dfNoNull = dfWithDate.drop() \n",
    "dfNoNull.createOrReplaceTempView(\"dfNoNull\")\n",
    "\n",
    "\n",
    "rolledUpDF = dfNoNull.rollup(\"Date\", \"Country\").agg(sum(\"Quantity\"))\\\n",
    "  .selectExpr(\"Date\", \"Country\", \"`sum(Quantity)` as total_quantity\")\\\n",
    "  .orderBy(\"Date\")\n",
    "rolledUpDF.show()\n",
    "\n",
    "#걍 이렇게 하는거라고 알고 넘기자. 이거 다른 df가져와서 한거임."
   ]
  },
  {
   "cell_type": "markdown",
   "metadata": {
    "id": "VY5kVoPOdexY"
   },
   "source": [
    "## Join 함수"
   ]
  },
  {
   "cell_type": "code",
   "execution_count": 60,
   "metadata": {
    "id": "U42YkZbOdexY"
   },
   "outputs": [],
   "source": [
    "#서로다른 데이터 프레임을 만들어줍니다\n",
    "person = spark.createDataFrame([\n",
    "    (0, \"Bill Chambers\", 0, [100]),\n",
    "    (1, \"Matei Zaharia\", 1, [500, 250, 100]),\n",
    "    (2, \"Michael Armbrust\", 1, [250, 100])])\\\n",
    "  .toDF(\"id\", \"name\", \"graduate_program\", \"spark_status\")\n",
    "graduateProgram = spark.createDataFrame([\n",
    "    (0, \"Masters\", \"School of Information\", \"UC Berkeley\"),\n",
    "    (2, \"Masters\", \"EECS\", \"UC Berkeley\"),\n",
    "    (1, \"Ph.D.\", \"EECS\", \"UC Berkeley\")])\\\n",
    "  .toDF(\"id\", \"degree\", \"department\", \"school\")\n",
    "sparkStatus = spark.createDataFrame([\n",
    "    (500, \"Vice President\"),\n",
    "    (250, \"PMC Member\"),\n",
    "    (100, \"Contributor\")])\\\n",
    "  .toDF(\"id\", \"status\")\n"
   ]
  },
  {
   "cell_type": "code",
   "execution_count": 61,
   "metadata": {
    "id": "b7ForlnIdexa",
    "outputId": "c0533665-0b35-46f2-f0ae-401d307e5f5c"
   },
   "outputs": [
    {
     "name": "stdout",
     "output_type": "stream",
     "text": [
      "+---+----------------+----------------+---------------+---+-------+--------------------+-----------+\n",
      "| id|            name|graduate_program|   spark_status| id| degree|          department|     school|\n",
      "+---+----------------+----------------+---------------+---+-------+--------------------+-----------+\n",
      "|  0|   Bill Chambers|               0|          [100]|  0|Masters|School of Informa...|UC Berkeley|\n",
      "|  1|   Matei Zaharia|               1|[500, 250, 100]|  1|  Ph.D.|                EECS|UC Berkeley|\n",
      "|  2|Michael Armbrust|               1|     [250, 100]|  1|  Ph.D.|                EECS|UC Berkeley|\n",
      "+---+----------------+----------------+---------------+---+-------+--------------------+-----------+\n",
      "\n"
     ]
    }
   ],
   "source": [
    "#type과 어떤 기준을 세울지 정해야합니다\n",
    "joinType = \"inner\"\n",
    "joinExpression = person['graduate_program'] == graduateProgram['id']\n",
    "person.join(graduateProgram,joinExpression,joinType).show()"
   ]
  },
  {
   "cell_type": "code",
   "execution_count": 62,
   "metadata": {
    "id": "jCfUhw8Tdexb",
    "outputId": "a8a4cf24-a8b2-4e9b-a54b-e83874980b0c"
   },
   "outputs": [
    {
     "name": "stdout",
     "output_type": "stream",
     "text": [
      "+----+----------------+----------------+---------------+---+-------+--------------------+-----------+\n",
      "|  id|            name|graduate_program|   spark_status| id| degree|          department|     school|\n",
      "+----+----------------+----------------+---------------+---+-------+--------------------+-----------+\n",
      "|   0|   Bill Chambers|               0|          [100]|  0|Masters|School of Informa...|UC Berkeley|\n",
      "|   1|   Matei Zaharia|               1|[500, 250, 100]|  1|  Ph.D.|                EECS|UC Berkeley|\n",
      "|   2|Michael Armbrust|               1|     [250, 100]|  1|  Ph.D.|                EECS|UC Berkeley|\n",
      "|null|            null|            null|           null|  2|Masters|                EECS|UC Berkeley|\n",
      "+----+----------------+----------------+---------------+---+-------+--------------------+-----------+\n",
      "\n"
     ]
    }
   ],
   "source": [
    "#type과 어떤 기준을 세울지 정해야합니다\n",
    "joinType = \"outer\"\n",
    "joinExpression = person['graduate_program'] == graduateProgram['id']\n",
    "person.join(graduateProgram,joinExpression,joinType).show()"
   ]
  },
  {
   "cell_type": "code",
   "execution_count": 63,
   "metadata": {
    "id": "Fop-lFPOdexd",
    "outputId": "39791ec1-3097-4feb-c5b8-285769fdb626"
   },
   "outputs": [
    {
     "name": "stdout",
     "output_type": "stream",
     "text": [
      "+---+-------+--------------------+-----------+----+----------------+----------------+---------------+\n",
      "| id| degree|          department|     school|  id|            name|graduate_program|   spark_status|\n",
      "+---+-------+--------------------+-----------+----+----------------+----------------+---------------+\n",
      "|  0|Masters|School of Informa...|UC Berkeley|   0|   Bill Chambers|               0|          [100]|\n",
      "|  1|  Ph.D.|                EECS|UC Berkeley|   1|   Matei Zaharia|               1|[500, 250, 100]|\n",
      "|  1|  Ph.D.|                EECS|UC Berkeley|   2|Michael Armbrust|               1|     [250, 100]|\n",
      "|  2|Masters|                EECS|UC Berkeley|null|            null|            null|           null|\n",
      "+---+-------+--------------------+-----------+----+----------------+----------------+---------------+\n",
      "\n"
     ]
    }
   ],
   "source": [
    "#type과 어떤 기준을 세울지 정해야합니다\n",
    "joinType = \"left_outer\"\n",
    "joinExpression = person['graduate_program'] == graduateProgram['id']\n",
    "graduateProgram.join(person,joinExpression,joinType).show()"
   ]
  },
  {
   "cell_type": "code",
   "execution_count": 64,
   "metadata": {
    "id": "rCoXjf6odexe",
    "outputId": "037a6f91-a9df-4d82-dd1a-3695ee47cc1d"
   },
   "outputs": [
    {
     "name": "stdout",
     "output_type": "stream",
     "text": [
      "+---+-------+--------------------+-----------+\n",
      "| id| degree|          department|     school|\n",
      "+---+-------+--------------------+-----------+\n",
      "|  0|Masters|School of Informa...|UC Berkeley|\n",
      "|  1|  Ph.D.|                EECS|UC Berkeley|\n",
      "+---+-------+--------------------+-----------+\n",
      "\n"
     ]
    }
   ],
   "source": [
    "#type과 어떤 기준을 세울지 정해야합니다\n",
    "joinType = \"left_semi\"\n",
    "joinExpression = person['graduate_program'] == graduateProgram['id']\n",
    "graduateProgram.join(person,joinExpression,joinType).show()"
   ]
  },
  {
   "cell_type": "markdown",
   "metadata": {
    "id": "sGUbNHPwdexg"
   },
   "source": [
    "이 외에도 right, right semi, natural join, cross join 등이 있습니다."
   ]
  },
  {
   "cell_type": "markdown",
   "metadata": {
    "id": "6mzzz2pOdexg"
   },
   "source": [
    "# ----------끝!-----------"
   ]
  },
  {
   "cell_type": "markdown",
   "metadata": {
    "id": "XYSZeyyMdexg"
   },
   "source": [
    "## HOMEWORK"
   ]
  },
  {
   "cell_type": "markdown",
   "metadata": {
    "collapsed": true,
    "id": "J3HDMJqIdexh"
   },
   "source": [
    "# 2010-12-01.csv 와 2010-12-02.csv 두 파일이 있습니다.\n",
    "# 두 파일을 불러와 준다음에, 우선 하나로 합칩니다.\n",
    "# 다음은 앞서 실습 때 진행했던 코드를 최소한 7개를 사용해서 하나의 정리된 데이터 프레임을 만들어 주세요. (where, count, groupby, descending, map 뭐든 상관 없습니다)\n",
    "# 그리고 스샷찍어서 제출해주시면됩니다."
   ]
  }
 ],
 "metadata": {
  "colab": {
   "name": "20201010_structured_api.ipynb",
   "provenance": []
  },
  "kernelspec": {
   "display_name": "Python 3",
   "language": "python",
   "name": "python3"
  },
  "language_info": {
   "codemirror_mode": {
    "name": "ipython",
    "version": 3
   },
   "file_extension": ".py",
   "mimetype": "text/x-python",
   "name": "python",
   "nbconvert_exporter": "python",
   "pygments_lexer": "ipython3",
   "version": "3.7.4"
  }
 },
 "nbformat": 4,
 "nbformat_minor": 1
}
