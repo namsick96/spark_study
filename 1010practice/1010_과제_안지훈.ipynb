{
 "cells": [
  {
   "cell_type": "code",
   "execution_count": 1,
   "metadata": {},
   "outputs": [],
   "source": [
    "df1 = spark.read.format(\"csv\")\\\n",
    "  .option(\"header\", \"true\")\\\n",
    "  .load(\"file:///home/ubuntu/spark_study/1010practice/2010-12-01.csv\")\\\n",
    "  .coalesce(5)\n",
    "\n",
    "df2 = spark.read.format(\"csv\")\\\n",
    "  .option(\"header\", \"true\")\\\n",
    "  .load(\"file:///home/ubuntu/spark_study/1010practice/2010-12-02.csv\")\\\n",
    "  .coalesce(5)\n",
    "\n"
   ]
  },
  {
   "cell_type": "code",
   "execution_count": 2,
   "metadata": {},
   "outputs": [
    {
     "name": "stdout",
     "output_type": "stream",
     "text": [
      "+---------+---------+--------------------+--------+-------------------+---------+----------+--------------+\n",
      "|InvoiceNo|StockCode|         Description|Quantity|        InvoiceDate|UnitPrice|CustomerID|       Country|\n",
      "+---------+---------+--------------------+--------+-------------------+---------+----------+--------------+\n",
      "|   536365|   85123A|WHITE HANGING HEA...|       6|2010-12-01 08:26:00|     2.55|   17850.0|United Kingdom|\n",
      "|   536365|    71053| WHITE METAL LANTERN|       6|2010-12-01 08:26:00|     3.39|   17850.0|United Kingdom|\n",
      "|   536365|   84406B|CREAM CUPID HEART...|       8|2010-12-01 08:26:00|     2.75|   17850.0|United Kingdom|\n",
      "|   536365|   84029G|KNITTED UNION FLA...|       6|2010-12-01 08:26:00|     3.39|   17850.0|United Kingdom|\n",
      "|   536365|   84029E|RED WOOLLY HOTTIE...|       6|2010-12-01 08:26:00|     3.39|   17850.0|United Kingdom|\n",
      "+---------+---------+--------------------+--------+-------------------+---------+----------+--------------+\n",
      "only showing top 5 rows\n",
      "\n"
     ]
    }
   ],
   "source": [
    "df1.show(5)"
   ]
  },
  {
   "cell_type": "code",
   "execution_count": 3,
   "metadata": {},
   "outputs": [
    {
     "name": "stdout",
     "output_type": "stream",
     "text": [
      "+---------+---------+--------------------+--------+-------------------+---------+----------+--------------+\n",
      "|InvoiceNo|StockCode|         Description|Quantity|        InvoiceDate|UnitPrice|CustomerID|       Country|\n",
      "+---------+---------+--------------------+--------+-------------------+---------+----------+--------------+\n",
      "|   536598|    21421|PORCELAIN ROSE LA...|      12|2010-12-02 07:48:00|     1.25|   13090.0|United Kingdom|\n",
      "|   536598|    21422|PORCELAIN ROSE SMALL|      16|2010-12-02 07:48:00|     0.85|   13090.0|United Kingdom|\n",
      "|   536598|    22178|VICTORIAN GLASS H...|      24|2010-12-02 07:48:00|     1.25|   13090.0|United Kingdom|\n",
      "|   536598|    22617|BAKING SET SPACEB...|      24|2010-12-02 07:48:00|     4.25|   13090.0|United Kingdom|\n",
      "|   536599|    22968|ROSE COTTAGE KEEP...|       8|2010-12-02 07:49:00|      8.5|   15694.0|United Kingdom|\n",
      "|   536599|    22727|ALARM CLOCK BAKEL...|       4|2010-12-02 07:49:00|     3.75|   15694.0|United Kingdom|\n",
      "|   536599|    22726|ALARM CLOCK BAKEL...|      12|2010-12-02 07:49:00|     3.75|   15694.0|United Kingdom|\n",
      "|   536599|    84945|MULTI COLOUR SILV...|      36|2010-12-02 07:49:00|     0.85|   15694.0|United Kingdom|\n",
      "|   536599|    20749|ASSORTED COLOUR M...|      12|2010-12-02 07:49:00|     6.35|   15694.0|United Kingdom|\n",
      "|   536599|    21056|DOCTOR'S BAG SOFT...|       8|2010-12-02 07:49:00|     8.95|   15694.0|United Kingdom|\n",
      "|   536600|   85123A|WHITE HANGING HEA...|       6|2010-12-02 08:32:00|     2.55|   17850.0|United Kingdom|\n",
      "|   536600|    71053| WHITE METAL LANTERN|       6|2010-12-02 08:32:00|     3.39|   17850.0|United Kingdom|\n",
      "|   536600|    82483|WOOD 2 DRAWER CAB...|       4|2010-12-02 08:32:00|     4.95|   17850.0|United Kingdom|\n",
      "|   536600|    82486|WOOD S/3 CABINET ...|       2|2010-12-02 08:32:00|     6.95|   17850.0|United Kingdom|\n",
      "|   536600|    82482|WOODEN PICTURE FR...|       6|2010-12-02 08:32:00|      2.1|   17850.0|United Kingdom|\n",
      "|   536600|   82494L|WOODEN FRAME ANTI...|       6|2010-12-02 08:32:00|     2.55|   17850.0|United Kingdom|\n",
      "|   536600|    22411|JUMBO SHOPPER VIN...|       6|2010-12-02 08:32:00|     1.65|   17850.0|United Kingdom|\n",
      "|   536600|   84029G|KNITTED UNION FLA...|       6|2010-12-02 08:32:00|     3.39|   17850.0|United Kingdom|\n",
      "|   536600|   84029E|RED WOOLLY HOTTIE...|       6|2010-12-02 08:32:00|     3.39|   17850.0|United Kingdom|\n",
      "|   536600|    22752|SET 7 BABUSHKA NE...|       2|2010-12-02 08:32:00|     7.65|   17850.0|United Kingdom|\n",
      "+---------+---------+--------------------+--------+-------------------+---------+----------+--------------+\n",
      "only showing top 20 rows\n",
      "\n"
     ]
    }
   ],
   "source": [
    "df2.show()"
   ]
  },
  {
   "cell_type": "code",
   "execution_count": 4,
   "metadata": {},
   "outputs": [],
   "source": [
    "df_real=df1.union(df2)"
   ]
  },
  {
   "cell_type": "code",
   "execution_count": 7,
   "metadata": {},
   "outputs": [
    {
     "name": "stdout",
     "output_type": "stream",
     "text": [
      "+---------+----+\n",
      "|InvoiceNo|quan|\n",
      "+---------+----+\n",
      "|   536596|   5|\n",
      "|   536597|  27|\n",
      "|   536608|   3|\n",
      "|   536765|   1|\n",
      "|   536414|   1|\n",
      "+---------+----+\n",
      "only showing top 5 rows\n",
      "\n"
     ]
    }
   ],
   "source": [
    "from pyspark.sql.functions import desc, asc,col,column,exp,count,create_map\n",
    "\n",
    "ordered_df=df_real.orderBy(col(\"UnitPrice\").desc(),col(\"StockCode\").asc())\n",
    "\n",
    "ordered_df=ordered_df.filter(col(\"UnitPrice\") < 6)\n",
    "\n",
    "ordered_df.withColumn(\"mapping\",create_map(col(\"InvoiceNo\"), col(\"Quantity\")))\n",
    "grouped_df=ordered_df.groupBy(\"InvoiceNo\").agg(\n",
    "    count(\"Quantity\").alias(\"quan\"))\n",
    "grouped_df.show(5)"
   ]
  },
  {
   "cell_type": "code",
   "execution_count": null,
   "metadata": {},
   "outputs": [],
   "source": []
  }
 ],
 "metadata": {
  "kernelspec": {
   "display_name": "Python 3",
   "language": "python",
   "name": "python3"
  },
  "language_info": {
   "codemirror_mode": {
    "name": "ipython",
    "version": 3
   },
   "file_extension": ".py",
   "mimetype": "text/x-python",
   "name": "python",
   "nbconvert_exporter": "python",
   "pygments_lexer": "ipython3",
   "version": "3.7.4"
  }
 },
 "nbformat": 4,
 "nbformat_minor": 2
}
