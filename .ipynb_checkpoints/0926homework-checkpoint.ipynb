{
 "cells": [
  {
   "cell_type": "code",
   "execution_count": 2,
   "metadata": {
    "id": "GVcUJ4gNHkvN",
    "outputId": "51be490a-5079-4701-83c4-42dd6f91e1f6"
   },
   "outputs": [
    {
     "data": {
      "text/html": [
       "\n",
       "        <div>\n",
       "            <p><b>SparkContext</b></p>\n",
       "\n",
       "            <p><a href=\"http://ip-172-31-61-34.ec2.internal:4040\">Spark UI</a></p>\n",
       "\n",
       "            <dl>\n",
       "              <dt>Version</dt>\n",
       "                <dd><code>v2.4.7</code></dd>\n",
       "              <dt>Master</dt>\n",
       "                <dd><code>local[*]</code></dd>\n",
       "              <dt>AppName</dt>\n",
       "                <dd><code>PySparkShell</code></dd>\n",
       "            </dl>\n",
       "        </div>\n",
       "        "
      ],
      "text/plain": [
       "<SparkContext master=local[*] appName=PySparkShell>"
      ]
     },
     "execution_count": 2,
     "metadata": {},
     "output_type": "execute_result"
    }
   ],
   "source": [
    "sc"
   ]
  },
  {
   "cell_type": "code",
   "execution_count": 3,
   "metadata": {},
   "outputs": [
    {
     "name": "stdout",
     "output_type": "stream",
     "text": [
      "/home/ubuntu/spark_study\r\n"
     ]
    }
   ],
   "source": [
    "!pwd"
   ]
  },
  {
   "cell_type": "code",
   "execution_count": 4,
   "metadata": {
    "id": "UCBbRMtGHkvS"
   },
   "outputs": [],
   "source": [
    "# 제공한 텍스트 파일을 이용해서 rdd를 만들어 보세요\n",
    "rdd = sc.textFile('file:///home/ubuntu/spark_study/test.txt')"
   ]
  },
  {
   "cell_type": "code",
   "execution_count": 5,
   "metadata": {
    "id": "-_or9jb7HkvV",
    "outputId": "a08bbccf-c866-4962-a306-2daa8ac3cbf3"
   },
   "outputs": [
    {
     "data": {
      "text/plain": [
       "['a is abracadabra',\n",
       " 'a is amy',\n",
       " 'b is betman',\n",
       " 'b is bread',\n",
       " 'c is cat',\n",
       " 'c is chocolate',\n",
       " 'd is daddy',\n",
       " 'e is elephant',\n",
       " 'f is f',\n",
       " 'g is game',\n",
       " 'h is home',\n",
       " 'i is idiot',\n",
       " 'j is juliet',\n",
       " 'j is jam',\n",
       " 'k is kim gwang yeong',\n",
       " 'k is korea',\n",
       " 'l is lima',\n",
       " 'l is line',\n",
       " 'l is league of legends',\n",
       " 'm is mother',\n",
       " 'm is mommy',\n",
       " 'n is november',\n",
       " 'o is oh my god abcdefghijklmnopqrstuvwxyz']"
      ]
     },
     "execution_count": 5,
     "metadata": {},
     "output_type": "execute_result"
    }
   ],
   "source": [
    "# 문제 0번\n",
    "# 생성한 rdd를 collect()를 이용해 리스트로 결과를 보여주세요\n",
    "rdd.collect()"
   ]
  },
  {
   "cell_type": "code",
   "execution_count": 6,
   "metadata": {
    "id": "hwaoxTb9HkvZ",
    "outputId": "c7eb4eaf-e3a6-4c3f-caae-72fe08fd15f3"
   },
   "outputs": [
    {
     "data": {
      "text/plain": [
       "[('a', 'a is abracadabra', 16),\n",
       " ('a', 'a is amy', 8),\n",
       " ('b', 'b is betman', 11),\n",
       " ('b', 'b is bread', 10),\n",
       " ('c', 'c is cat', 8),\n",
       " ('c', 'c is chocolate', 14),\n",
       " ('d', 'd is daddy', 10),\n",
       " ('e', 'e is elephant', 13),\n",
       " ('f', 'f is f', 6),\n",
       " ('g', 'g is game', 9),\n",
       " ('h', 'h is home', 9),\n",
       " ('i', 'i is idiot', 10),\n",
       " ('j', 'j is juliet', 11),\n",
       " ('j', 'j is jam', 8),\n",
       " ('k', 'k is kim gwang yeong', 20),\n",
       " ('k', 'k is korea', 10),\n",
       " ('l', 'l is lima', 9),\n",
       " ('l', 'l is line', 9),\n",
       " ('l', 'l is league of legends', 22),\n",
       " ('m', 'm is mother', 11),\n",
       " ('m', 'm is mommy', 10),\n",
       " ('n', 'n is november', 13),\n",
       " ('o', 'o is oh my god abcdefghijklmnopqrstuvwxyz', 41)]"
      ]
     },
     "execution_count": 6,
     "metadata": {},
     "output_type": "execute_result"
    }
   ],
   "source": [
    "# 문제 1번\n",
    "# 각 레코드를 map 함수를 적용해서 (레코드의 첫번째 글자, 레코드, 레코드의 길이) 가 나오도록 만들어보세요\n",
    "temp = rdd.map(lambda word:(word[0],word,len(word)))\n",
    "temp.collect()"
   ]
  },
  {
   "cell_type": "code",
   "execution_count": 7,
   "metadata": {
    "id": "bxe64ajXHkvc",
    "outputId": "e1417f98-1c29-42c7-a50d-2eb62ddd4252"
   },
   "outputs": [
    {
     "data": {
      "text/plain": [
       "[('f', 'f is f', 6),\n",
       " ('a', 'a is amy', 8),\n",
       " ('c', 'c is cat', 8),\n",
       " ('j', 'j is jam', 8),\n",
       " ('g', 'g is game', 9),\n",
       " ('h', 'h is home', 9),\n",
       " ('l', 'l is lima', 9),\n",
       " ('l', 'l is line', 9),\n",
       " ('b', 'b is bread', 10),\n",
       " ('d', 'd is daddy', 10),\n",
       " ('i', 'i is idiot', 10),\n",
       " ('k', 'k is korea', 10),\n",
       " ('m', 'm is mommy', 10),\n",
       " ('b', 'b is betman', 11),\n",
       " ('j', 'j is juliet', 11),\n",
       " ('m', 'm is mother', 11),\n",
       " ('e', 'e is elephant', 13),\n",
       " ('n', 'n is november', 13),\n",
       " ('c', 'c is chocolate', 14),\n",
       " ('a', 'a is abracadabra', 16),\n",
       " ('k', 'k is kim gwang yeong', 20),\n",
       " ('l', 'l is league of legends', 22),\n",
       " ('o', 'o is oh my god abcdefghijklmnopqrstuvwxyz', 41)]"
      ]
     },
     "execution_count": 7,
     "metadata": {},
     "output_type": "execute_result"
    }
   ],
   "source": [
    "# 문제 2번\n",
    "# 위에서 만든 것을 가지고 레코드의 길이를 기준으로 오름차순으로 정렬을 해보세요\n",
    "temp = temp.sortBy(lambda word: word[2])\n",
    "temp.collect()"
   ]
  },
  {
   "cell_type": "code",
   "execution_count": 8,
   "metadata": {
    "id": "11bUIWktHkvg",
    "outputId": "2ed6c68e-9dac-4346-abaa-8d919927f2ee"
   },
   "outputs": [
    {
     "data": {
      "text/plain": [
       "[('o', 'o is oh my god abcdefghijklmnopqrstuvwxyz', 41),\n",
       " ('l', 'l is league of legends', 22),\n",
       " ('k', 'k is kim gwang yeong', 20),\n",
       " ('a', 'a is abracadabra', 16),\n",
       " ('c', 'c is chocolate', 14),\n",
       " ('e', 'e is elephant', 13),\n",
       " ('n', 'n is november', 13),\n",
       " ('b', 'b is betman', 11),\n",
       " ('j', 'j is juliet', 11),\n",
       " ('m', 'm is mother', 11),\n",
       " ('b', 'b is bread', 10),\n",
       " ('d', 'd is daddy', 10),\n",
       " ('i', 'i is idiot', 10),\n",
       " ('k', 'k is korea', 10),\n",
       " ('m', 'm is mommy', 10),\n",
       " ('g', 'g is game', 9),\n",
       " ('h', 'h is home', 9),\n",
       " ('l', 'l is lima', 9),\n",
       " ('l', 'l is line', 9),\n",
       " ('a', 'a is amy', 8),\n",
       " ('c', 'c is cat', 8),\n",
       " ('j', 'j is jam', 8),\n",
       " ('f', 'f is f', 6)]"
      ]
     },
     "execution_count": 8,
     "metadata": {},
     "output_type": "execute_result"
    }
   ],
   "source": [
    "# 문제 3번\n",
    "# 이번에는 내림차순으로 정렬을 해보세요\n",
    "temp = temp.sortBy(lambda word: word[2],False)\n",
    "temp.collect()\n"
   ]
  },
  {
   "cell_type": "code",
   "execution_count": 9,
   "metadata": {
    "id": "xSlELgIwHkvj",
    "outputId": "b05d56eb-7e61-441b-dc8c-fbfadf068884"
   },
   "outputs": [
    {
     "name": "stdout",
     "output_type": "stream",
     "text": [
      "['b is betman', 'b is bread']\n",
      "['c is cat', 'c is chocolate']\n",
      "['d is daddy']\n",
      "['g is game']\n",
      "['h is home']\n",
      "['i is idiot']\n",
      "['j is juliet', 'j is jam']\n",
      "['l is lima', 'l is line', 'l is league of legends']\n",
      "['a is abracadabra', 'a is amy']\n",
      "['e is elephant']\n",
      "['f is f']\n",
      "['k is kim gwang yeong', 'k is korea']\n",
      "['m is mother', 'm is mommy']\n",
      "['n is november']\n",
      "['o is oh my god abcdefghijklmnopqrstuvwxyz']\n"
     ]
    }
   ],
   "source": [
    "# 문제 4번\n",
    "# 문제 0번의 rdd를 가지고 제일 앞의 글자를 가지고 groupBy를 적용해 보세요 (groupBy된 결과 출력은 실습 참고!!)\n",
    "\n",
    "res = rdd.groupBy(lambda word:word[0]).collect()\n",
    "for i in res:\n",
    "    print(list(i[1]))\n",
    "\n"
   ]
  },
  {
   "cell_type": "code",
   "execution_count": 14,
   "metadata": {
    "id": "vI5PkyfrHkvm",
    "outputId": "5b835413-6f73-4b9c-b75c-d2786637ec24"
   },
   "outputs": [
    {
     "data": {
      "text/plain": [
       "[('a', 'a is abracadabra'),\n",
       " ('a', 'a is amy'),\n",
       " ('b', 'b is betman'),\n",
       " ('b', 'b is bread'),\n",
       " ('c', 'c is cat'),\n",
       " ('c', 'c is chocolate'),\n",
       " ('d', 'd is daddy'),\n",
       " ('e', 'e is elephant'),\n",
       " ('f', 'f is f'),\n",
       " ('g', 'g is game'),\n",
       " ('h', 'h is home'),\n",
       " ('i', 'i is idiot'),\n",
       " ('j', 'j is juliet'),\n",
       " ('j', 'j is jam'),\n",
       " ('k', 'k is kim gwang yeong'),\n",
       " ('k', 'k is korea'),\n",
       " ('l', 'l is lima'),\n",
       " ('l', 'l is line'),\n",
       " ('l', 'l is league of legends'),\n",
       " ('m', 'm is mother'),\n",
       " ('m', 'm is mommy'),\n",
       " ('n', 'n is november'),\n",
       " ('o', 'o is oh my god abcdefghijklmnopqrstuvwxyz')]"
      ]
     },
     "execution_count": 14,
     "metadata": {},
     "output_type": "execute_result"
    }
   ],
   "source": [
    "# 문제 5번\n",
    "# 문제 0번의 rdd를 가지고 제일 앞의 글자를 key로 하는 키-값 rdd를 만들어보세요\n",
    "temp2 = rdd.keyBy(lambda word:word[0])\n",
    "temp2.collect()"
   ]
  },
  {
   "cell_type": "code",
   "execution_count": 16,
   "metadata": {
    "id": "nLAo9GqWHkvq",
    "outputId": "99fe7b5d-9834-4d87-c47f-92a71bd7a59b"
   },
   "outputs": [
    {
     "data": {
      "text/plain": [
       "defaultdict(int,\n",
       "            {'a': 2,\n",
       "             'b': 2,\n",
       "             'c': 2,\n",
       "             'd': 1,\n",
       "             'e': 1,\n",
       "             'f': 1,\n",
       "             'g': 1,\n",
       "             'h': 1,\n",
       "             'i': 1,\n",
       "             'j': 2,\n",
       "             'k': 2,\n",
       "             'l': 3,\n",
       "             'm': 2,\n",
       "             'n': 1,\n",
       "             'o': 1})"
      ]
     },
     "execution_count": 16,
     "metadata": {},
     "output_type": "execute_result"
    }
   ],
   "source": [
    "# 문제 6번\n",
    "# 위에서 생성한 키-값 rdd를 가지고 각 키에 대한 레코드의 수를 출력해주세요 (hint countByKey)\n",
    "temp2.countByKey()"
   ]
  },
  {
   "cell_type": "code",
   "execution_count": null,
   "metadata": {},
   "outputs": [],
   "source": []
  }
 ],
 "metadata": {
  "colab": {
   "name": "homework.ipynb",
   "provenance": []
  },
  "kernelspec": {
   "display_name": "Python 3",
   "language": "python",
   "name": "python3"
  },
  "language_info": {
   "codemirror_mode": {
    "name": "ipython",
    "version": 3
   },
   "file_extension": ".py",
   "mimetype": "text/x-python",
   "name": "python",
   "nbconvert_exporter": "python",
   "pygments_lexer": "ipython3",
   "version": "3.7.4"
  }
 },
 "nbformat": 4,
 "nbformat_minor": 1
}
